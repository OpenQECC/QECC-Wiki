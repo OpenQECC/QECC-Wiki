{
 "cells": [
  {
   "cell_type": "code",
   "execution_count": 40,
   "metadata": {},
   "outputs": [
    {
     "name": "stderr",
     "output_type": "stream",
     "text": [
      "WARNING: replacing module QECC_Converter.\n"
     ]
    }
   ],
   "source": [
    "using CairoMakie, SparseArrays, LDPCDecoders\n",
    "using QuantumClifford: Stabilizer, MixedDestabilizer, sHadamard, logicalxview, logicalzview, sMRZ, PauliError, pftrajectories, pfmeasurements, stab_to_gf2, PauliFrame, PauliError, AbstractOperation\n",
    "using QuantumClifford.ECC: faults_matrix, naive_syndrome_circuit, parity_checks, AbstractECC, naive_encoding_circuit, Cleve8, Steane7, Shor9, Perfect5\n",
    "include(\"./util/QECC_converter.jl\")\n",
    "using .QECC_Converter\n",
    "using Quantikz\n",
    "using QuantumClifford\n",
    "import QuantumClifford.ECC:parity_checks"
   ]
  },
  {
   "cell_type": "code",
   "execution_count": 2,
   "metadata": {},
   "outputs": [
    {
     "data": {
      "text/plain": [
       "fault_tolerant_encoding (generic function with 1 method)"
      ]
     },
     "metadata": {},
     "output_type": "display_data"
    }
   ],
   "source": [
    "function fault_tolerant_encoding(scirc)\n",
    "    ecirc = Vector{QuantumClifford.AbstractOperation}()\n",
    "    for gate in scirc\n",
    "        if isa(gate,sMRZ)\n",
    "            push!(ecirc, sMZ(gate.qubit))\n",
    "        elseif isa(gate,sMRX)\n",
    "            push!(ecirc, sMX(gate.qubit))\n",
    "        elseif isa(gate,sMRY)\n",
    "            push!(ecirc, sMY(gate.qubit))\n",
    "        else\n",
    "            push!(ecirc, gate)\n",
    "        end\n",
    "    end\n",
    "    return ecirc\n",
    "end"
   ]
  },
  {
   "cell_type": "code",
   "execution_count": 3,
   "metadata": {},
   "outputs": [
    {
     "data": {
      "text/plain": [
       "evaluate_code_decoder_FTecirc_pf_krishna (generic function with 2 methods)"
      ]
     },
     "metadata": {},
     "output_type": "display_data"
    }
   ],
   "source": [
    "function evaluate_code_decoder_FTecirc_pf_krishna(Cx, Cz, checks, scirc, p_init, p_shift=0 ; nframes=1_000, encoding_locs=nothing, max_iters = 25)\n",
    "    O = faults_matrix(checks)\n",
    "    circuit_Z = Base.copy(scirc)\n",
    "    circuit_X = Base.copy(scirc)\n",
    "    println(circuit_Z)\n",
    "    println(circuit_X)\n",
    "\n",
    "    @assert size(Cx, 2) == size(Cz, 2) == nqubits(checks)\n",
    "    @assert size(Cx, 1) + size(Cz, 1) == length(checks)\n",
    "\n",
    "    s, n = size(checks)\n",
    "    _, _, r = canonicalize!(Base.copy(checks), ranks=true)\n",
    "    k = n - r\n",
    "\n",
    "    # Krishna decoder\n",
    "    log_probabs = zeros(n)\n",
    "    channel_probs = fill(p_init, n)\n",
    "\n",
    "    numchecks_X = size(Cx)[1]\n",
    "    b2c_X = zeros(numchecks_X, n)\n",
    "    c2b_X = zeros(numchecks_X, n)\n",
    "\n",
    "    numchecks_Z = size(Cz)[1]\n",
    "    b2c_Z = zeros(numchecks_Z, n)\n",
    "    c2b_Z = zeros(numchecks_Z, n)\n",
    "    err = zeros(n)\n",
    "    # end krishna\n",
    "    \n",
    "    if isnothing(encoding_locs)\n",
    "        pre_X = [sHadamard(i) for i in n-k+1:n]\n",
    "    else\n",
    "        pre_X = [sHadamard(i) for i in encoding_locs]\n",
    "    end\n",
    "\n",
    "    md = MixedDestabilizer(checks)\n",
    "    logview_Z = logicalzview(md)\n",
    "    logcirc_Z, numLogBits_Z, _ = naive_syndrome_circuit(logview_Z)\n",
    "    @assert numLogBits_Z == k\n",
    "\n",
    "    logview_X = logicalxview(md)\n",
    "    logcirc_X, numLogBits_X, _ = naive_syndrome_circuit(logview_X)\n",
    "    @assert numLogBits_X == k\n",
    "\n",
    "    # Z logic circuit\n",
    "    for gate in logcirc_Z\n",
    "        type = typeof(gate)\n",
    "        if type == sMRZ\n",
    "            push!(circuit_Z, sMRZ(gate.qubit+s, gate.bit+s))\n",
    "        else\n",
    "            push!(circuit_Z, type(gate.q1, gate.q2+s))\n",
    "        end\n",
    "    end\n",
    "\n",
    "   # X logic circuit\n",
    "    for gate in logcirc_X\n",
    "        type = typeof(gate)\n",
    "        if type == sMRZ\n",
    "            push!(circuit_X, sMRZ(gate.qubit+s, gate.bit+s))\n",
    "        else\n",
    "            push!(circuit_X, type(gate.q1, gate.q2+s))\n",
    "        end\n",
    "    end\n",
    "\n",
    "    errors = [PauliError(i,p_init) for i in 1:n]\n",
    "\n",
    "    # Z simulation\n",
    "    ecirc = fault_tolerant_encoding(circuit_Z)\n",
    "    fullcircuit_Z = vcat(ecirc, errors, circuit_Z)\n",
    "\n",
    "    frames = PauliFrame(nframes, n+s+k, s+k)\n",
    "    pftrajectories(frames, fullcircuit_Z)\n",
    "    syndromes = pfmeasurements(frames)[:, 1:s]\n",
    "    logicalSyndromes = pfmeasurements(frames)[:, s+1: s+k]\n",
    "\n",
    "    decoded = 0\n",
    "    for i in 1:nframes\n",
    "        row = syndromes[i,:]\n",
    "        row_x = row[1:numchecks_X]\n",
    "        row_z = row[numchecks_X+1:numchecks_X+numchecks_Z]\n",
    "\n",
    "        KguessX, success = syndrome_decode(sparse(Cx), sparse(Cx'), row_x, max_iters, channel_probs, b2c_X, c2b_X, log_probabs, Base.copy(err))\n",
    "        KguessZ, success = syndrome_decode(sparse(Cz), sparse(Cz'), row_z, max_iters, channel_probs, b2c_Z, c2b_Z, log_probabs, Base.copy(err))\n",
    "        guess = vcat(KguessZ, KguessX)\n",
    "        \n",
    "        result_Z = (O * (guess))[k+1:2k]\n",
    "        if result_Z == logicalSyndromes[i,:]\n",
    "            decoded += 1\n",
    "        end\n",
    "    end\n",
    "    z_error = 1 - decoded / nframes\n",
    "\n",
    "    # X simulation\n",
    "    ecirc = fault_tolerant_encoding(circuit_X)\n",
    "    fullcircuit_X = vcat(pre_X, ecirc, errors, circuit_X)\n",
    "\n",
    "    frames = PauliFrame(nframes, n+s+k, s+k)\n",
    "    pftrajectories(frames, fullcircuit_X)\n",
    "    syndromes = pfmeasurements(frames)[:, 1:s]\n",
    "    logicalSyndromes = pfmeasurements(frames)[:, s+1: s+k]\n",
    "\n",
    "    decoded = 0\n",
    "    for i in 1:nframes\n",
    "        row = syndromes[i,:]\n",
    "        row_x = row[1:numchecks_X]\n",
    "        row_z = row[numchecks_X+1:numchecks_X+numchecks_Z]\n",
    "\n",
    "        KguessX, success = syndrome_decode(sparse(Cx), sparse(Cx'), row_x, max_iters, channel_probs, b2c_X, c2b_X, log_probabs, Base.copy(err))\n",
    "        KguessZ, success = syndrome_decode(sparse(Cz), sparse(Cz'), row_z, max_iters, channel_probs, b2c_Z, c2b_Z, log_probabs, Base.copy(err))\n",
    "        guess = vcat(KguessZ, KguessX)\n",
    "        \n",
    "        result_X = (O * (guess))[1:k]\n",
    "        if result_X == logicalSyndromes[i, :]\n",
    "            decoded += 1\n",
    "        end\n",
    "    end\n",
    "    x_error = 1 - decoded / nframes\n",
    "\n",
    "    return x_error, z_error\n",
    "end"
   ]
  },
  {
   "cell_type": "code",
   "execution_count": 4,
   "metadata": {},
   "outputs": [
    {
     "data": {
      "text/plain": [
       "add_two_qubit_gate_noise (generic function with 1 method)"
      ]
     },
     "metadata": {},
     "output_type": "display_data"
    }
   ],
   "source": [
    "function add_two_qubit_gate_noise(circuit, p_error)\n",
    "    new_circuit = AbstractOperation[]\n",
    "    for gate in circuit\n",
    "        if isa(gate, QuantumClifford.AbstractTwoQubitOperator)\n",
    "            push!(new_circuit, gate)\n",
    "            push!(new_circuit, PauliError(gate.q1, p_error))\n",
    "            push!(new_circuit, PauliError(gate.q2, p_error))\n",
    "        else\n",
    "            push!(new_circuit, gate)\n",
    "        end\n",
    "    end\n",
    "    return new_circuit\n",
    "end"
   ]
  },
  {
   "cell_type": "code",
   "execution_count": 5,
   "metadata": {},
   "outputs": [
    {
     "name": "stdout",
     "output_type": "stream",
     "text": [
      "Bool[0 0 0 1 1 1 1; 0 1 1 0 0 1 1; 1 0 1 0 1 0 1]\n"
     ]
    }
   ],
   "source": [
    "CONFIG_PATH = string(@__DIR__, \"/codelists/Steane-7.jl\");\n",
    "include(CONFIG_PATH);\n",
    "tab = stabilizerStringToTableau(code[\"example\"][\"codestring\"]);\n",
    "stab = Stabilizer(tab);\n",
    "(scirc, _), time1, _ = @timed naive_syndrome_circuit(stab);\n",
    "ecirc, time2, _ = @timed naive_encoding_circuit(stab);\n",
    "# println(stab_to_gf2(stab))\n",
    "bool_tab = stab_to_gf2(stab)\n",
    "n, m = size(bool_tab)\n",
    "code_Cx = bool_tab[1:round(Int, n /2), 1:round(Int, m / 2)]\n",
    "code_Cz = bool_tab[round(Int, n /2) + 1:end, round(Int, m / 2) + 1:end]\n",
    "println(code_Cz)"
   ]
  },
  {
   "cell_type": "code",
   "execution_count": 6,
   "metadata": {},
   "outputs": [
    {
     "name": "stdout",
     "output_type": "stream",
     "text": [
      "AbstractOperation["
     ]
    },
    {
     "name": "stdout",
     "output_type": "stream",
     "text": [
      "QuantumClifford.sXCX(4,8), QuantumClifford.sXCX(5,8), QuantumClifford.sXCX(6,8), QuantumClifford.sXCX(7,8), sMRZ(8, 1), QuantumClifford.sXCX(2,9), QuantumClifford.sXCX(3,9), QuantumClifford.sXCX(6,9), QuantumClifford.sXCX(7,9), sMRZ(9, 2), QuantumClifford.sXCX(1,10), QuantumClifford.sXCX(3,10), QuantumClifford.sXCX(5,10), QuantumClifford.sXCX(7,10), sMRZ(10, 3), "
     ]
    },
    {
     "name": "stdout",
     "output_type": "stream",
     "text": [
      "QuantumClifford.sCNOT(4,11), QuantumClifford.sCNOT(5,11), QuantumClifford.sCNOT(6,11), QuantumClifford.sCNOT(7,11), sMRZ(11, 4), QuantumClifford.sCNOT(2,12), QuantumClifford.sCNOT(3,12), QuantumClifford.sCNOT(6,12), QuantumClifford.sCNOT(7,12), sMRZ(12, 5), QuantumClifford.sCNOT(1,13), QuantumClifford.sCNOT(3,13), QuantumClifford.sCNOT(5,13), QuantumClifford.sCNOT(7,13), sMRZ(13, 6)]\n",
      "AbstractOperation[QuantumClifford.sXCX(4,8), QuantumClifford.sXCX(5,8), QuantumClifford.sXCX(6,8), QuantumClifford.sXCX(7,8), sMRZ(8, 1), QuantumClifford.sXCX(2,9), QuantumClifford.sXCX(3,9), QuantumClifford.sXCX(6,9), QuantumClifford.sXCX(7,9), sMRZ(9, 2), QuantumClifford.sXCX(1,10), QuantumClifford.sXCX(3,10), QuantumClifford.sXCX(5,10), QuantumClifford.sXCX(7,10), sMRZ(10, 3), QuantumClifford.sCNOT(4,11), QuantumClifford.sCNOT(5,11), QuantumClifford.sCNOT(6,11), QuantumClifford.sCNOT(7,11), sMRZ(11, 4), QuantumClifford.sCNOT(2,12), QuantumClifford.sCNOT(3,12), QuantumClifford.sCNOT(6,12), QuantumClifford.sCNOT(7,12), sMRZ(12, 5), QuantumClifford.sCNOT(1,13), QuantumClifford.sCNOT(3,13), QuantumClifford.sCNOT(5,13), QuantumClifford.sCNOT(7,13), sMRZ(13, 6)]\n"
     ]
    },
    {
     "ename": "UndefVarError",
     "evalue": "UndefVarError: `nqubits` not defined",
     "output_type": "error",
     "traceback": [
      "UndefVarError: `nqubits` not defined\n",
      "\n",
      "Stacktrace:\n",
      " [1] evaluate_code_decoder_FTecirc_pf_krishna(Cx::Matrix{Bool}, Cz::Matrix{Bool}, checks::Stabilizer{QuantumClifford.Tableau{Vector{UInt8}, Matrix{UInt64}}}, scirc::Vector{AbstractOperation}, p_init::Float64, p_shift::Int64; nframes::Int64, encoding_locs::Nothing, max_iters::Int64)\n",
      "   @ Main c:\\Users\\benku\\Desktop\\College Documents\\Krastanov Independent Study\\QECC-Wiki\\src\\generator\\codemoshpit.ipynb:8\n",
      " [2] evaluate_code_decoder_FTecirc_pf_krishna\n",
      "   @ c:\\Users\\benku\\Desktop\\College Documents\\Krastanov Independent Study\\QECC-Wiki\\src\\generator\\codemoshpit.ipynb:1 [inlined]\n",
      " [3] top-level scope\n",
      "   @ c:\\Users\\benku\\Desktop\\College Documents\\Krastanov Independent Study\\QECC-Wiki\\src\\generator\\codemoshpit.ipynb:1"
     ]
    }
   ],
   "source": [
    "evaluate_code_decoder_FTecirc_pf_krishna(code_Cx, code_Cz, stab, scirc, 0.01, nframes = 100_000)"
   ]
  },
  {
   "cell_type": "code",
   "execution_count": 11,
   "metadata": {},
   "outputs": [
    {
     "ename": "UndefVarError",
     "evalue": "UndefVarError: `belief_decoder_eval_X` not defined",
     "output_type": "error",
     "traceback": [
      "UndefVarError: `belief_decoder_eval_X` not defined\n",
      "\n",
      "Stacktrace:\n",
      " [1] top-level scope\n",
      "   @ c:\\Users\\benku\\Desktop\\College Documents\\Krastanov Independent Study\\QECC-Wiki\\src\\generator\\codemoshpit.ipynb:1"
     ]
    }
   ],
   "source": [
    "belief_decoder_eval_X(stab, ecirc, scirc, 0.01, nframes = 1)"
   ]
  },
  {
   "cell_type": "code",
   "execution_count": 19,
   "metadata": {},
   "outputs": [
    {
     "name": "stdout",
     "output_type": "stream",
     "text": [
      "AbstractOperation[sXCX(4,8), sXCX(5,8), sXCX(6,8)"
     ]
    },
    {
     "name": "stdout",
     "output_type": "stream",
     "text": [
      ", sXCX(7,8), sMRZ(8, 1), sXCX(2,9), sXCX(3,9), sXCX(6,9), sXCX(7,9), sMRZ(9, 2), sXCX(1,10), sXCX(3,10), sXCX(5,10), sXCX(7,10), sMRZ(10, 3), sCNOT(4,11), sCNOT(5,11), sCNOT(6,11), sCNOT(7,11), sMRZ(11, 4), sCNOT(2,12), sCNOT(3,12), sCNOT(6,12), sCNOT(7,12), sMRZ(12, 5), sCNOT(1,13), sCNOT(3,13), sCNOT(5,13), sCNOT(7,13), sMRZ(13, 6)]\n"
     ]
    }
   ],
   "source": [
    "circuit_Z, _ = naive_syndrome_circuit(stab);\n",
    "# println(typeof(circuit_Z))\n",
    "# circuit_Z = add_two_qubit_gate_noise(circuit_Z, 0.09);\n",
    "println(circuit_Z)"
   ]
  },
  {
   "cell_type": "code",
   "execution_count": 346,
   "metadata": {},
   "outputs": [
    {
     "data": {
      "image/png": "[encoded data removed]",
      "text/plain": [
       "30-element Vector{AbstractOperation}:\n",
       " sXCX(4,8)\n",
       " sXCX(5,8)\n",
       " sXCX(6,8)\n",
       " sXCX(7,8)\n",
       " sMRZ(8, 1)\n",
       " sXCX(2,9)\n",
       " sXCX(3,9)\n",
       " sXCX(6,9)\n",
       " sXCX(7,9)\n",
       " sMRZ(9, 2)\n",
       " ⋮\n",
       " sCNOT(3,12)\n",
       " sCNOT(6,12)\n",
       " sCNOT(7,12)\n",
       " sMRZ(12, 5)\n",
       " sCNOT(1,13)\n",
       " sCNOT(3,13)\n",
       " sCNOT(5,13)\n",
       " sCNOT(7,13)\n",
       " sMRZ(13, 6)"
      ]
     },
     "metadata": {},
     "output_type": "display_data"
    }
   ],
   "source": [
    "circuit_Z"
   ]
  },
  {
   "cell_type": "code",
   "execution_count": 20,
   "metadata": {},
   "outputs": [
    {
     "data": {
      "text/plain": [
       "(AbstractOperation[sCNOT(2,8), sCNOT(4,8), sCNOT(6,8), sMRZ(8, 1)], 1, 1:1)"
      ]
     },
     "metadata": {},
     "output_type": "display_data"
    }
   ],
   "source": [
    "s, n = size(stab)\n",
    "_, _, r = canonicalize!(Base.copy(stab), ranks=true)\n",
    "k = n - r\n",
    "md = MixedDestabilizer(stab)\n",
    "logview_Z = logicalzview(md)\n",
    "logcirc_Z, numLogBits_Z, _ = naive_syndrome_circuit(logview_Z)"
   ]
  },
  {
   "cell_type": "code",
   "execution_count": 21,
   "metadata": {},
   "outputs": [],
   "source": [
    "noise_circuit_Z = add_two_qubit_gate_noise(circuit_Z, 0.09);"
   ]
  },
  {
   "cell_type": "code",
   "execution_count": 22,
   "metadata": {},
   "outputs": [],
   "source": [
    "for gate in logcirc_Z\n",
    "    type = typeof(gate)\n",
    "    if type == sMRZ\n",
    "        push!(noise_circuit_Z, sMRZ(gate.qubit+s, gate.bit+s))\n",
    "    else\n",
    "        push!(noise_circuit_Z, type(gate.q1, gate.q2+s))\n",
    "    end\n",
    "end"
   ]
  },
  {
   "cell_type": "code",
   "execution_count": 25,
   "metadata": {},
   "outputs": [],
   "source": [
    "errors = [PauliError(i,0.1) for i in 1:7];"
   ]
  },
  {
   "cell_type": "code",
   "execution_count": 23,
   "metadata": {},
   "outputs": [
    {
     "data": {
      "image/png": "[encoded data removed]",
      "text/plain": [
       "30-element Vector{AbstractOperation}:\n",
       " sXCX(4,8)\n",
       " sXCX(5,8)\n",
       " sXCX(6,8)\n",
       " sXCX(7,8)\n",
       " sMZ(8, 0)\n",
       " sXCX(2,9)\n",
       " sXCX(3,9)\n",
       " sXCX(6,9)\n",
       " sXCX(7,9)\n",
       " sMZ(9, 0)\n",
       " ⋮\n",
       " sCNOT(3,12)\n",
       " sCNOT(6,12)\n",
       " sCNOT(7,12)\n",
       " sMZ(12, 0)\n",
       " sCNOT(1,13)\n",
       " sCNOT(3,13)\n",
       " sCNOT(5,13)\n",
       " sCNOT(7,13)\n",
       " sMZ(13, 0)"
      ]
     },
     "metadata": {},
     "output_type": "display_data"
    }
   ],
   "source": [
    "ecirc = fault_tolerant_encoding(circuit_Z)"
   ]
  },
  {
   "cell_type": "code",
   "execution_count": 26,
   "metadata": {},
   "outputs": [
    {
     "name": "stdout",
     "output_type": "stream",
     "text": [
      "note: Running TeX ...\n"
     ]
    },
    {
     "name": "stderr",
     "output_type": "stream",
     "text": [
      "┌ Warning: Command failed... ProcessFailedException(Base.Process[Process(`'C:\\Users\\benku\\.julia\\artifacts\\177ed29d9ff5472967d660c5b817b2c32cdc04af\\bin\\tectonic.exe' 'C:\\Users\\benku\\AppData\\Local\\Temp\\jl_O7u3jk\\input.tex'`, ProcessExited(1))]) Retrying...\n",
      "└ @ Quantikz C:\\Users\\benku\\.julia\\packages\\Quantikz\\NEGDl\\src\\Quantikz.jl:40\n"
     ]
    },
    {
     "data": {
      "text/plain": [
       "119-element Vector{AbstractOperation}:\n",
       " sXCX(4,8)\n",
       " sXCX(5,8)\n",
       " sXCX(6,8)\n",
       " sXCX(7,8)\n",
       " sMZ(8, 0)\n",
       " sXCX(2,9)\n",
       " sXCX(3,9)\n",
       " sXCX(6,9)\n",
       " sXCX(7,9)\n",
       " sMZ(9, 0)\n",
       " ⋮\n",
       " NoiseOp(UnbiasedUncorrelatedNoise{Float64}(0.03), [13])\n",
       " sCNOT(7,13)\n",
       " NoiseOp(UnbiasedUncorrelatedNoise{Float64}(0.03), [7])\n",
       " NoiseOp(UnbiasedUncorrelatedNoise{Float64}(0.03), [13])\n",
       " sMRZ(13, 6)\n",
       " sCNOT(2,14)\n",
       " sCNOT(4,14)\n",
       " sCNOT(6,14)\n",
       " sMRZ(14, 7)"
      ]
     },
     "metadata": {},
     "output_type": "display_data"
    },
    {
     "name": "stderr",
     "output_type": "stream",
     "text": [
      "error: input.tex:31: TeX capacity exceeded, sorry [main memory size=5000000]\n",
      "error: halted on potentially-recoverable error as specified\n"
     ]
    }
   ],
   "source": [
    "fullcircuit_Z = vcat(ecirc, errors, noise_circuit_Z)"
   ]
  },
  {
   "cell_type": "code",
   "execution_count": 350,
   "metadata": {},
   "outputs": [],
   "source": [
    "circuit_Z = add_two_qubit_gate_noise(circuit_Z, 0.09);"
   ]
  },
  {
   "cell_type": "code",
   "execution_count": 18,
   "metadata": {},
   "outputs": [
    {
     "name": "stdout",
     "output_type": "stream",
     "text": [
      "AbstractOperation[sXCX(4,8), NoiseOp(UnbiasedUncorrelatedNoise{Float64}(0.03)"
     ]
    },
    {
     "name": "stdout",
     "output_type": "stream",
     "text": [
      ", [4]), NoiseOp(UnbiasedUncorrelatedNoise{Float64}(0.03), [8]), sXCX(5,8), NoiseOp(UnbiasedUncorrelatedNoise{Float64}(0.03), [5]), NoiseOp(UnbiasedUncorrelatedNoise{Float64}(0.03), [8]), sXCX(6,8), NoiseOp(UnbiasedUncorrelatedNoise{Float64}(0.03), [6]), NoiseOp(UnbiasedUncorrelatedNoise{Float64}(0.03), [8]), sXCX(7,8), NoiseOp(UnbiasedUncorrelatedNoise{Float64}(0.03), [7]), NoiseOp(UnbiasedUncorrelatedNoise{Float64}(0.03), [8]), sMRZ(8, 1), sXCX(2,9), NoiseOp(UnbiasedUncorrelatedNoise{Float64}(0.03), [2]), NoiseOp(UnbiasedUncorrelatedNoise{Float64}(0.03), [9]), sXCX(3,9), NoiseOp(UnbiasedUncorrelatedNoise{Float64}(0.03), [3]), NoiseOp(UnbiasedUncorrelatedNoise{Float64}(0.03), [9]), sXCX(6,9), NoiseOp(UnbiasedUncorrelatedNoise{Float64}(0.03), [6]), NoiseOp(UnbiasedUncorrelatedNoise{Float64}(0.03), [9]), sXCX(7,9), NoiseOp(UnbiasedUncorrelatedNoise{Float64}(0.03), [7]), NoiseOp(UnbiasedUncorrelatedNoise{Float64}(0.03), [9]), sMRZ(9, 2), sXCX(1,10), NoiseOp(UnbiasedUncorrelatedNoise{Float64}(0.03), [1]), NoiseOp(UnbiasedUncorrelatedNoise{Float64}(0.03), [10]), sXCX(3,10), NoiseOp(UnbiasedUncorrelatedNoise{Float64}(0.03), [3]), NoiseOp(UnbiasedUncorrelatedNoise{Float64}(0.03), [10]), sXCX(5,10), NoiseOp(UnbiasedUncorrelatedNoise{Float64}(0.03), [5]), NoiseOp(UnbiasedUncorrelatedNoise{Float64}(0.03), [10]), sXCX(7,10), NoiseOp(UnbiasedUncorrelatedNoise{Float64}(0.03), [7]), NoiseOp(UnbiasedUncorrelatedNoise{Float64}(0.03), [10]), sMRZ(10, 3), sCNOT(4,11), NoiseOp(UnbiasedUncorrelatedNoise{Float64}(0.03), [4]), NoiseOp(UnbiasedUncorrelatedNoise{Float64}(0.03), [11]), sCNOT(5,11), NoiseOp(UnbiasedUncorrelatedNoise{Float64}(0.03), [5]), NoiseOp(UnbiasedUncorrelatedNoise{Float64}(0.03), [11]), sCNOT(6,11), NoiseOp(UnbiasedUncorrelatedNoise{Float64}(0.03), [6]), NoiseOp(UnbiasedUncorrelatedNoise{Float64}(0.03), [11]), sCNOT(7,11), NoiseOp(UnbiasedUncorrelatedNoise{Float64}(0.03), [7]), NoiseOp(UnbiasedUncorrelatedNoise{Float64}(0.03), [11]), sMRZ(11, 4), sCNOT(2,12), NoiseOp(UnbiasedUncorrelatedNoise{Float64}(0.03), [2]), NoiseOp(UnbiasedUncorrelatedNoise{Float64}(0.03), [12]), sCNOT(3,12), NoiseOp(UnbiasedUncorrelatedNoise{Float64}(0.03), [3]), NoiseOp(UnbiasedUncorrelatedNoise{Float64}(0.03), [12]), sCNOT(6,12), NoiseOp(UnbiasedUncorrelatedNoise{Float64}(0.03), [6]), NoiseOp(UnbiasedUncorrelatedNoise{Float64}(0.03), [12]), sCNOT(7,12), NoiseOp(UnbiasedUncorrelatedNoise{Float64}(0.03), [7]), NoiseOp(UnbiasedUncorrelatedNoise{Float64}(0.03), [12]), sMRZ(12, 5), sCNOT(1,13), NoiseOp(UnbiasedUncorrelatedNoise{Float64}(0.03), [1]), NoiseOp(UnbiasedUncorrelatedNoise{Float64}(0.03), [13]), sCNOT(3,13), NoiseOp(UnbiasedUncorrelatedNoise{Float64}(0.03), [3]), NoiseOp(UnbiasedUncorrelatedNoise{Float64}(0.03), [13]), sCNOT(5,13), NoiseOp(UnbiasedUncorrelatedNoise{Float64}(0.03), [5]), NoiseOp(UnbiasedUncorrelatedNoise{Float64}(0.03), [13]), sCNOT(7,13), NoiseOp(UnbiasedUncorrelatedNoise{Float64}(0.03), [7]), NoiseOp(UnbiasedUncorrelatedNoise{Float64}(0.03), [13]), sMRZ(13, 6), sCNOT(2,14), sCNOT(4,14), sCNOT(6,14), sMRZ(14, 7)]\n"
     ]
    },
    {
     "data": {
      "image/png": "[encoded data removed]",
      "text/plain": [
       "82-element Vector{AbstractOperation}:\n",
       " sXCX(4,8)\n",
       " NoiseOp(UnbiasedUncorrelatedNoise{Float64}(0.03), [4])\n",
       " NoiseOp(UnbiasedUncorrelatedNoise{Float64}(0.03), [8])\n",
       " sXCX(5,8)\n",
       " NoiseOp(UnbiasedUncorrelatedNoise{Float64}(0.03), [5])\n",
       " NoiseOp(UnbiasedUncorrelatedNoise{Float64}(0.03), [8])\n",
       " sXCX(6,8)\n",
       " NoiseOp(UnbiasedUncorrelatedNoise{Float64}(0.03), [6])\n",
       " NoiseOp(UnbiasedUncorrelatedNoise{Float64}(0.03), [8])\n",
       " sXCX(7,8)\n",
       " ⋮\n",
       " NoiseOp(UnbiasedUncorrelatedNoise{Float64}(0.03), [13])\n",
       " sCNOT(7,13)\n",
       " NoiseOp(UnbiasedUncorrelatedNoise{Float64}(0.03), [7])\n",
       " NoiseOp(UnbiasedUncorrelatedNoise{Float64}(0.03), [13])\n",
       " sMRZ(13, 6)\n",
       " sCNOT(2,14)\n",
       " sCNOT(4,14)\n",
       " sCNOT(6,14)\n",
       " sMRZ(14, 7)"
      ]
     },
     "metadata": {},
     "output_type": "display_data"
    }
   ],
   "source": [
    "println(circuit_Z)\n",
    "circuit_Z"
   ]
  },
  {
   "cell_type": "code",
   "execution_count": 282,
   "metadata": {},
   "outputs": [
    {
     "name": "stdout",
     "output_type": "stream",
     "text": [
      "NoiseOp[NoiseOp(UnbiasedUncorrelatedNoise{Float64}(0.03333333333333333), [1]), NoiseOp(UnbiasedUncorrelatedNoise{Float64}(0.03333333333333333), [2]), NoiseOp(UnbiasedUncorrelatedNoise{Float64}(0.03333333333333333), [3]), NoiseOp(UnbiasedUncorrelatedNoise{Float64}(0.03333333333333333), [4]), NoiseOp(UnbiasedUncorrelatedNoise{Float64}(0.03333333333333333), [5]), NoiseOp(UnbiasedUncorrelatedNoise{Float64}(0.03333333333333333), [6]), NoiseOp(UnbiasedUncorrelatedNoise{Float64}(0.03333333333333333), [7])]\n"
     ]
    }
   ],
   "source": [
    "errors = [PauliError(i,0.1) for i in 1:7];\n",
    "println(errors)"
   ]
  },
  {
   "cell_type": "code",
   "execution_count": 284,
   "metadata": {},
   "outputs": [
    {
     "data": {
      "text/plain": [
       "10"
      ]
     },
     "metadata": {},
     "output_type": "display_data"
    }
   ],
   "source": [
    "nframes = 10"
   ]
  },
  {
   "cell_type": "code",
   "execution_count": 341,
   "metadata": {},
   "outputs": [
    {
     "data": {
      "text/plain": [
       "PauliFrame{Stabilizer{QuantumClifford.Tableau{Vector{UInt8}, LinearAlgebra.Adjoint{UInt64, Matrix{UInt64}}}}, Matrix{Bool}}(Stabilizer 10×14, Bool[0 0 … 0 0; 0 0 … 0 1; … ; 0 1 … 0 1; 1 1 … 1 0])"
      ]
     },
     "metadata": {},
     "output_type": "display_data"
    }
   ],
   "source": [
    "ecirc_Z = fault_tolerant_encoding(circuit_Z)\n",
    "fullcircuit_Z = vcat(ecirc_Z, errors, circuit_Z)\n",
    "\n",
    "frames = PauliFrame(nframes, n+s+k, s+k)\n",
    "pftrajectories(frames, fullcircuit_Z)"
   ]
  },
  {
   "cell_type": "code",
   "execution_count": 342,
   "metadata": {},
   "outputs": [
    {
     "name": "stdout",
     "output_type": "stream",
     "text": [
      "Bool[0 0 1 0 0 0; 0 0 0 0 1 0; 0 0 0 0 0 0; 1 0 0 1 1 0; 1 0 0 1 1 1; 1 0 0 0 1 0; 1 0 1 1 0 1; 1 1 0 0 0 1; 0 1 0 1 0 0; 1 1 1 1 1 1]\n",
      "Bool[0; 1; 1; 1; 0; 1; 1; 1; 1; 0;;]\n"
     ]
    }
   ],
   "source": [
    "syndromes = pfmeasurements(frames)[:, 1:s]\n",
    "logicalSyndromes = pfmeasurements(frames)[:, s+1: s+k]\n",
    "println(syndromes)\n",
    "println(logicalSyndromes)"
   ]
  },
  {
   "cell_type": "code",
   "execution_count": 339,
   "metadata": {},
   "outputs": [],
   "source": [
    "pre_X = [sHadamard(i) for i in n-k+1:n];"
   ]
  },
  {
   "cell_type": "code",
   "execution_count": 340,
   "metadata": {},
   "outputs": [
    {
     "name": "stdout",
     "output_type": "stream",
     "text": [
      "note: Running TeX ...\n"
     ]
    },
    {
     "name": "stderr",
     "output_type": "stream",
     "text": [
      "┌ Warning: Command failed... ProcessFailedException(Base.Process[Process(`'C:\\Users\\benku\\.julia\\artifacts\\177ed29d9ff5472967d660c5b817b2c32cdc04af\\bin\\tectonic.exe' 'C:\\Users\\benku\\AppData\\Local\\Temp\\jl_Vz8Uyq\\input.tex'`, ProcessExited(1))]) Retrying...\n",
      "└ @ Quantikz C:\\Users\\benku\\.julia\\packages\\Quantikz\\NEGDl\\src\\Quantikz.jl:40\n"
     ]
    },
    {
     "data": {
      "text/plain": [
       "184-element Vector{AbstractOperation}:\n",
       " sHadamard(7)\n",
       " sXCX(4,8)\n",
       " NoiseOp(UnbiasedUncorrelatedNoise{Float64}(0.03), [4])\n",
       " NoiseOp(UnbiasedUncorrelatedNoise{Float64}(0.03), [8])\n",
       " sXCX(5,8)\n",
       " NoiseOp(UnbiasedUncorrelatedNoise{Float64}(0.03), [5])\n",
       " NoiseOp(UnbiasedUncorrelatedNoise{Float64}(0.03), [8])\n",
       " sXCX(6,8)\n",
       " NoiseOp(UnbiasedUncorrelatedNoise{Float64}(0.03), [6])\n",
       " NoiseOp(UnbiasedUncorrelatedNoise{Float64}(0.03), [8])\n",
       " ⋮\n",
       " NoiseOp(UnbiasedUncorrelatedNoise{Float64}(0.03), [2])\n",
       " NoiseOp(UnbiasedUncorrelatedNoise{Float64}(0.03), [14])\n",
       " sCNOT(4,14)\n",
       " NoiseOp(UnbiasedUncorrelatedNoise{Float64}(0.03), [4])\n",
       " NoiseOp(UnbiasedUncorrelatedNoise{Float64}(0.03), [14])\n",
       " sCNOT(6,14)\n",
       " NoiseOp(UnbiasedUncorrelatedNoise{Float64}(0.03), [6])\n",
       " NoiseOp(UnbiasedUncorrelatedNoise{Float64}(0.03), [14])\n",
       " sMRZ(14, 7)"
      ]
     },
     "metadata": {},
     "output_type": "display_data"
    },
    {
     "name": "stderr",
     "output_type": "stream",
     "text": [
      "error: input.tex:30: TeX capacity exceeded, sorry [main memory size=5000000]\n",
      "error: halted on potentially-recoverable error as specified\n"
     ]
    }
   ],
   "source": [
    "fullcircuit_X = vcat(pre_X, fullcircuit_Z)"
   ]
  },
  {
   "cell_type": "code",
   "execution_count": 9,
   "metadata": {},
   "outputs": [
    {
     "data": {
      "text/plain": [
       "2×3 Matrix{Int64}:\n",
       " 1  2  3\n",
       " 4  5  6"
      ]
     },
     "metadata": {},
     "output_type": "display_data"
    }
   ],
   "source": [
    "m = [1 2 3; 4 5 6]"
   ]
  },
  {
   "cell_type": "code",
   "execution_count": 10,
   "metadata": {},
   "outputs": [
    {
     "name": "stdout",
     "output_type": "stream",
     "text": [
      "(2, 3)\n"
     ]
    }
   ],
   "source": [
    "println(size(m))"
   ]
  },
  {
   "cell_type": "code",
   "execution_count": 33,
   "metadata": {},
   "outputs": [
    {
     "data": {
      "text/plain": [
       "evaluate_classical_decoder (generic function with 2 methods)"
      ]
     },
     "metadata": {},
     "output_type": "display_data"
    }
   ],
   "source": [
    "function evaluate_classical_decoder(H, nsamples, init_error, gate_error, syndrome_circuit_func, encoding_circuit_func, pre_circuit = nothing)\n",
    "    decoded = 0\n",
    "\n",
    "    H_stab = Stabilizer(fill(0x0, size(H, 2)), H, zeros(Bool, size(H)))\n",
    "\n",
    "    O = faults_matrix(H_stab)\n",
    "    syndrome_circuit = syndrome_circuit_func(H_stab)\n",
    "    \n",
    "    s, n = size(H)\n",
    "    k = n - s\n",
    "\n",
    "    errors = [PauliError(i, init_error) for i in 1:n];\n",
    "\n",
    "    md = MixedDestabilizer(H_stab)\n",
    "    \n",
    "    full_circuit = []\n",
    "\n",
    "    logview = logicalxview(md)\n",
    "    logcirc, _ = syndrome_circuit_func(logviews)\n",
    "\n",
    "    noisy_circuit = add_two_qubit_gate_noise(syndrome_circuit, gate_error);\n",
    "    \n",
    "    for gate in logcirc\n",
    "        type = typeof(gate)\n",
    "        if type == sMRZ\n",
    "            push!(circuit, sMRZ(gate.qubit+s, gate.bit+s))\n",
    "        else\n",
    "            push!(circuit, type(gate.q1, gate.q2+s))\n",
    "        end\n",
    "    end\n",
    "\n",
    "    ecirc = encoding_circuit_func(scirc)\n",
    "    if isnothing(pre_circuit)\n",
    "        full_circuit = vcat(pre_circuits, ecirc, errors, scirc)\n",
    "    else\n",
    "        full_circuit = vcat(ecirc, errors, scirc)\n",
    "    end\n",
    "\n",
    "    frames = PauliFrame(nframes, n+s+k, s+k)\n",
    "    pftrajectories(frames, full_circuit)\n",
    "    syndromes = pfmeasurements(frames)[:, 1:s]\n",
    "    logical_syndromes = pfmeasurements(frames)[:, s+1: s+k]\n",
    "\n",
    "    for i in 1:nsamples\n",
    "        guess = decode(decoder_obj, syndromes[i])\n",
    "\n",
    "        result = (O * (guess))\n",
    "        \n",
    "        if result == logical_syndromes[i]\n",
    "            decoded += 1\n",
    "        end\n",
    "    end\n",
    "\n",
    "    return (nsamples - decoded) / nsamples\n",
    "end"
   ]
  },
  {
   "cell_type": "code",
   "execution_count": 19,
   "metadata": {},
   "outputs": [
    {
     "ename": "UndefVarError",
     "evalue": "UndefVarError: `AbstractClassicalSyndromeDecoder` not defined",
     "output_type": "error",
     "traceback": [
      "UndefVarError: `AbstractClassicalSyndromeDecoder` not defined\n",
      "\n",
      "Stacktrace:\n",
      " [1] top-level scope\n",
      "   @ c:\\Users\\benku\\Desktop\\College Documents\\Krastanov Independent Study\\QECC-Wiki\\src\\generator\\codemoshpit.ipynb:1"
     ]
    }
   ],
   "source": [
    "function evaluate_classical_decoder(decoder_obj::AbstractClassicalSyndromeDecoder, nsamples, init_error, gate_error, encoding_circuit_func, syndrome_circuit_func, pre_circuit = nothing)\n",
    "    X_syndrome_circuit = syndrome_circuit_func(decoder_obj.Cx)\n",
    "    Z_syndrome_circuit = syndrome_circuit_func(decoder_obj.Cz)\n",
    "\n",
    "    n = decoder_obj.n\n",
    "    s = decoder_obj.s\n",
    "    k = decpder_obj.k\n",
    "\n",
    "    errors = [PauliError(i,transmission_error) for i in 1:n];\n",
    "\n",
    "    md = MixedDestabilizer(checks)\n",
    "    \n",
    "    full_circuit = []\n",
    "\n",
    "    logview = logicalxview(md)\n",
    "    logcirc, _ = syndrome_circuit_func(logview_X)\n",
    "\n",
    "    noisy_circuit_X = add_two_qubit_gate_noise(circuit_X, gate_error);\n",
    "    \n",
    "    for gate in logcirc_X\n",
    "        type = typeof(gate)\n",
    "        if type == sMRZ\n",
    "            push!(circuit_X, sMRZ(gate.qubit+s, gate.bit+s))\n",
    "        else\n",
    "            push!(circuit_X, type(gate.q1, gate.q2+s))\n",
    "        end\n",
    "    end\n",
    "\n",
    "    ecirc = fault_tolerant_encoding(scirc)\n",
    "    if isnothing(pre_circuit)\n",
    "        full_circuit = vcat(pre_circuits, ecirc, errors, scirc)\n",
    "    else\n",
    "        full_circuit = vcat(ecirc, errors, scirc)\n",
    "    end\n",
    "\n",
    "    frames = PauliFrame(nframes, n+s+k, s+k)\n",
    "    pftrajectories(frames, full_circuit)\n",
    "    syndromes = pfmeasurements(frames)[:, 1:s]\n",
    "    logical_syndromes = pfmeasurements(frames)[:, s+1: s+k]\n",
    "\n",
    "    for i in 1:nsamples\n",
    "        guess = decode(decoder_obj, X_syndromes[i])\n",
    "\n",
    "        result = (O * (guess))\n",
    "        \n",
    "        if result == logical_syndromes[i]\n",
    "            X_decoded += 1\n",
    "        end\n",
    "        if X_result == Z_logicalSyndromes[i]\n",
    "            Z_decoded += 1\n",
    "        end\n",
    "    end\n",
    "\n",
    "    X_error = (nsamples - X_decoded) / nsamples\n",
    "end"
   ]
  },
  {
   "cell_type": "code",
   "execution_count": 25,
   "metadata": {},
   "outputs": [
    {
     "data": {
      "text/plain": [
       "3×7 Matrix{Bool}:\n",
       " 0  0  0  1  1  1  1\n",
       " 0  1  1  0  0  1  1\n",
       " 1  0  1  0  1  0  1"
      ]
     },
     "metadata": {},
     "output_type": "display_data"
    }
   ],
   "source": [
    "m = Matrix{Bool}([0 0 0 1 1 1 1; 0 1 1 0 0 1 1; 1 0 1 0 1 0 1])"
   ]
  },
  {
   "cell_type": "code",
   "execution_count": 34,
   "metadata": {},
   "outputs": [
    {
     "name": "stdout",
     "output_type": "stream",
     "text": [
      "UInt8[0x00, 0x00, 0x00, 0x00, 0x00, 0x00, 0x00]\n"
     ]
    },
    {
     "name": "stdout",
     "output_type": "stream",
     "text": [
      "Bool[0 0 0 1 1 1 1; 0 1 1 0 0 1 1; 1 0 1 0 1 0 1]\n",
      "Bool[0 0 0 0 0 0 0; 0 0 0 0 0 0 0; 0 0 0 0 0 0 0]\n",
      "+ ___XXXX\n",
      "+ _XX__XX\n",
      "+ X_X_X_X\n"
     ]
    },
    {
     "ename": "BoundsError",
     "evalue": "BoundsError: attempt to access 2×3 Matrix{UInt64} at index [1:2, 4]",
     "output_type": "error",
     "traceback": [
      "BoundsError: attempt to access 2×3 Matrix{UInt64} at index [1:2, 4]\n",
      "\n",
      "Stacktrace:\n",
      "  [1] throw_boundserror(A::Matrix{UInt64}, I::Tuple{Base.Slice{Base.OneTo{Int64}}, Int64})\n",
      "    @ Base .\\abstractarray.jl:744\n",
      "  [2] checkbounds\n",
      "    @ .\\abstractarray.jl:709 [inlined]\n",
      "  [3] _getindex\n",
      "    @ .\\multidimensional.jl:860 [inlined]\n",
      "  [4] getindex\n",
      "    @ .\\abstractarray.jl:1296 [inlined]\n",
      "  [5] getindex(tab::QuantumClifford.Tableau{Vector{UInt8}, Matrix{UInt64}}, i::Int64)\n",
      "    @ QuantumClifford C:\\Users\\benku\\.julia\\packages\\QuantumClifford\\6bVHK\\src\\QuantumClifford.jl:171\n",
      "  [6] _show(io::VSCodeServer.IJuliaCore.IJuliaStdio{Base.PipeEndpoint, typeof(VSCodeServer.io_send_callback)}, t::QuantumClifford.Tableau{Vector{UInt8}, Matrix{UInt64}}, limit::Missing, limit_vertical::Missing)\n",
      "    @ QuantumClifford C:\\Users\\benku\\.julia\\packages\\QuantumClifford\\6bVHK\\src\\tableau_show.jl:37\n",
      "  [7] show(io::VSCodeServer.IJuliaCore.IJuliaStdio{Base.PipeEndpoint, typeof(VSCodeServer.io_send_callback)}, t::QuantumClifford.Tableau{Vector{UInt8}, Matrix{UInt64}})\n",
      "    @ QuantumClifford C:\\Users\\benku\\.julia\\packages\\QuantumClifford\\6bVHK\\src\\tableau_show.jl:51\n",
      "  [8] show(io::VSCodeServer.IJuliaCore.IJuliaStdio{Base.PipeEndpoint, typeof(VSCodeServer.io_send_callback)}, s::Stabilizer{QuantumClifford.Tableau{Vector{UInt8}, Matrix{UInt64}}})\n",
      "    @ QuantumClifford C:\\Users\\benku\\.julia\\packages\\QuantumClifford\\6bVHK\\src\\tableau_show.jl:60\n",
      "  [9] print(io::VSCodeServer.IJuliaCore.IJuliaStdio{Base.PipeEndpoint, typeof(VSCodeServer.io_send_callback)}, x::Stabilizer{QuantumClifford.Tableau{Vector{UInt8}, Matrix{UInt64}}})\n",
      "    @ Base .\\strings\\io.jl:35\n",
      " [10] print(::VSCodeServer.IJuliaCore.IJuliaStdio{Base.PipeEndpoint, typeof(VSCodeServer.io_send_callback)}, ::Stabilizer{QuantumClifford.Tableau{Vector{UInt8}, Matrix{UInt64}}}, ::String)\n",
      "    @ Base .\\strings\\io.jl:46\n",
      " [11] println(io::VSCodeServer.IJuliaCore.IJuliaStdio{Base.PipeEndpoint, typeof(VSCodeServer.io_send_callback)}, xs::Stabilizer{QuantumClifford.Tableau{Vector{UInt8}, Matrix{UInt64}}})\n",
      "    @ Base .\\strings\\io.jl:75\n",
      " [12] println(xs::Stabilizer{QuantumClifford.Tableau{Vector{UInt8}, Matrix{UInt64}}})\n",
      "    @ Base .\\coreio.jl:4\n",
      " [13] evaluate_classical_decoder(H::Matrix{Bool}, nsamples::Int64, init_error::Float64, gate_error::Float64, syndrome_circuit_func::typeof(naive_syndrome_circuit), encoding_circuit_func::typeof(naive_encoding_circuit), pre_circuit::Nothing)\n",
      "    @ Main c:\\Users\\benku\\Desktop\\College Documents\\Krastanov Independent Study\\QECC-Wiki\\src\\generator\\codemoshpit.ipynb:9\n",
      " [14] evaluate_classical_decoder(H::Matrix{Bool}, nsamples::Int64, init_error::Float64, gate_error::Float64, syndrome_circuit_func::Function, encoding_circuit_func::Function)\n",
      "    @ Main c:\\Users\\benku\\Desktop\\College Documents\\Krastanov Independent Study\\QECC-Wiki\\src\\generator\\codemoshpit.ipynb:2\n",
      " [15] top-level scope\n",
      "    @ c:\\Users\\benku\\Desktop\\College Documents\\Krastanov Independent Study\\QECC-Wiki\\src\\generator\\codemoshpit.ipynb:1"
     ]
    }
   ],
   "source": [
    "evaluate_classical_decoder(m, 1000, 0.01, 0.0, naive_syndrome_circuit, naive_encoding_circuit)"
   ]
  },
  {
   "cell_type": "code",
   "execution_count": 69,
   "metadata": {},
   "outputs": [
    {
     "data": {
      "text/plain": [
       "code_k"
      ]
     },
     "metadata": {},
     "output_type": "display_data"
    }
   ],
   "source": [
    "\"\"\"An arbitrary CSS error correcting code defined by its X and Z checks.\"\"\"\n",
    "struct CSS <: AbstractECC\n",
    "    Hx\n",
    "    Hz\n",
    "    \"\"\"Creates a CSS code using the two provided matrices where Hx contains the X checks and Hz contains the Z checks.\"\"\"\n",
    "    function CSS(Hx, Hz)\n",
    "        n = size(Hx, 2)\n",
    "        if n != size(Hz, 2) error(\"When constructing a CSS quantum code, the two classical codes are required to have the same block size\") end\n",
    "        if size(Hx,1)+size(Hz,1) >= n error(\"When constructing a CSS quantum code, the total number of checks (rows) in the parity checks of the two classical codes have to be lower than the block size (the number of columns).\") end\n",
    "        return new(Hx, Hz)\n",
    "    end\n",
    "end\n",
    "\n",
    "function boolean_tableau(c::CSS)\n",
    "    Hx_height, Hx_width = size(c.Hx)\n",
    "    Hz_height, Hz_width = size(x.Hz)\n",
    "    checks_matrix = falses(Hx_height + Hz_height, Hx_width + Hz_width)\n",
    "    checks_matrix[1:Hx_height, 1:Hx_width] = c.Hx\n",
    "    checks_matrix[Hx_height+1:end, Hx_width+1:end] = c.Hz\n",
    "    return CSS(checks_matrix)\n",
    "end\n",
    "\n",
    "\"\"\"Returns the stabilizer making up the parity check tableau.\"\"\"\n",
    "function parity_checks(c::CSS)\n",
    "    extended_Hx = Matrix{Bool}(vcat(c.Hx, zeros(size(c.Hz))))\n",
    "    extended_Hz = Matrix{Bool}(vcat(zeros(size(c.Hx)), c.Hz))\n",
    "    Stabilizer(fill(0x0, size(c.Hx, 2) + size(c.Hz, 2)), extended_Hx, extended_Hz)\n",
    "end\n",
    "\n",
    "\"\"\"Returns the block length of the code.\"\"\"\n",
    "code_n(c::CSS) = size(c.Hx,2)\n",
    "\n",
    "\"\"\"Returns the depth of the parity check matrix\"\"\"\n",
    "code_m(c::CSS) = size(c.Hx, 1) + size(c.Hz, 1)\n",
    "\n",
    "\"\"\"Returns the number of encoded qubits\"\"\"\n",
    "code_k(c::CSS) = (2 * size(c.Hx,2)) - code_m(c)"
   ]
  },
  {
   "cell_type": "code",
   "execution_count": 61,
   "metadata": {},
   "outputs": [
    {
     "data": {
      "text/plain": [
       "TableDecoder"
      ]
     },
     "metadata": {},
     "output_type": "display_data"
    }
   ],
   "source": [
    "abstract type AbstractSyndromeDecoder end\n",
    "\n",
    "struct TableDecoder <: AbstractSyndromeDecoder\n",
    "    H\n",
    "    faults_matrix\n",
    "    n\n",
    "    s\n",
    "    r\n",
    "    k\n",
    "    lookup_table\n",
    "    time \n",
    "end\n",
    "\n",
    "function TableDecoder(Hx, Hz)\n",
    "    c = CSS(Hx, Hz)\n",
    "    H = parity_checks(c)\n",
    "    println(H)\n",
    "    s, n = size(H)\n",
    "    _, _, r = canonicalize!(Base.copy(H), ranks=true)\n",
    "    k = n - r\n",
    "    lookup_table, time, _ = @timed create_lookup_table(H)\n",
    "    faults_matrix = faults_matrix(H)\n",
    "    return TableDecoder(H, n, s, r, k, faults_matrix, lookup_table, time)\n",
    "end"
   ]
  },
  {
   "cell_type": "code",
   "execution_count": 70,
   "metadata": {},
   "outputs": [
    {
     "name": "stdout",
     "output_type": "stream",
     "text": [
      "+ ___XXXX\n",
      "+ _XX__XX\n",
      "+ X_X_X_X\n",
      "+ ___ZZZZ\n",
      "+ _ZZ__ZZ\n",
      "+ Z_Z_Z_Z\n"
     ]
    },
    {
     "ename": "BoundsError",
     "evalue": "BoundsError: attempt to access 2×6 Matrix{UInt64} at index [1:2, 7]",
     "output_type": "error",
     "traceback": [
      "BoundsError: attempt to access 2×6 Matrix{UInt64} at index [1:2, 7]\n",
      "\n",
      "Stacktrace:\n",
      "  [1] throw_boundserror(A::Matrix{UInt64}, I::Tuple{Base.Slice{Base.OneTo{Int64}}, Int64})\n",
      "    @ Base .\\abstractarray.jl:744\n",
      "  [2] checkbounds\n",
      "    @ .\\abstractarray.jl:709 [inlined]\n",
      "  [3] _getindex\n",
      "    @ .\\multidimensional.jl:860 [inlined]\n",
      "  [4] getindex\n",
      "    @ .\\abstractarray.jl:1296 [inlined]\n",
      "  [5] getindex(tab::QuantumClifford.Tableau{Vector{UInt8}, Matrix{UInt64}}, i::Int64)\n",
      "    @ QuantumClifford C:\\Users\\benku\\.julia\\packages\\QuantumClifford\\6bVHK\\src\\QuantumClifford.jl:171\n",
      "  [6] _show(io::VSCodeServer.IJuliaCore.IJuliaStdio{Base.PipeEndpoint, typeof(VSCodeServer.io_send_callback)}, t::QuantumClifford.Tableau{Vector{UInt8}, Matrix{UInt64}}, limit::Missing, limit_vertical::Missing)\n",
      "    @ QuantumClifford C:\\Users\\benku\\.julia\\packages\\QuantumClifford\\6bVHK\\src\\tableau_show.jl:37\n",
      "  [7] show(io::VSCodeServer.IJuliaCore.IJuliaStdio{Base.PipeEndpoint, typeof(VSCodeServer.io_send_callback)}, t::QuantumClifford.Tableau{Vector{UInt8}, Matrix{UInt64}})\n",
      "    @ QuantumClifford C:\\Users\\benku\\.julia\\packages\\QuantumClifford\\6bVHK\\src\\tableau_show.jl:51\n",
      "  [8] show(io::VSCodeServer.IJuliaCore.IJuliaStdio{Base.PipeEndpoint, typeof(VSCodeServer.io_send_callback)}, s::Stabilizer{QuantumClifford.Tableau{Vector{UInt8}, Matrix{UInt64}}})\n",
      "    @ QuantumClifford C:\\Users\\benku\\.julia\\packages\\QuantumClifford\\6bVHK\\src\\tableau_show.jl:60\n",
      "  [9] print(io::VSCodeServer.IJuliaCore.IJuliaStdio{Base.PipeEndpoint, typeof(VSCodeServer.io_send_callback)}, x::Stabilizer{QuantumClifford.Tableau{Vector{UInt8}, Matrix{UInt64}}})\n",
      "    @ Base .\\strings\\io.jl:35\n",
      " [10] print(::VSCodeServer.IJuliaCore.IJuliaStdio{Base.PipeEndpoint, typeof(VSCodeServer.io_send_callback)}, ::Stabilizer{QuantumClifford.Tableau{Vector{UInt8}, Matrix{UInt64}}}, ::String)\n",
      "    @ Base .\\strings\\io.jl:46\n",
      " [11] println(io::VSCodeServer.IJuliaCore.IJuliaStdio{Base.PipeEndpoint, typeof(VSCodeServer.io_send_callback)}, xs::Stabilizer{QuantumClifford.Tableau{Vector{UInt8}, Matrix{UInt64}}})\n",
      "    @ Base .\\strings\\io.jl:75\n",
      " [12] println(xs::Stabilizer{QuantumClifford.Tableau{Vector{UInt8}, Matrix{UInt64}}})\n",
      "    @ Base .\\coreio.jl:4\n",
      " [13] TableDecoder(Hx::Matrix{Bool}, Hz::Matrix{Bool})\n",
      "    @ Main c:\\Users\\benku\\Desktop\\College Documents\\Krastanov Independent Study\\QECC-Wiki\\src\\generator\\codemoshpit.ipynb:17\n",
      " [14] top-level scope\n",
      "    @ c:\\Users\\benku\\Desktop\\College Documents\\Krastanov Independent Study\\QECC-Wiki\\src\\generator\\codemoshpit.ipynb:1"
     ]
    }
   ],
   "source": [
    "TableDecoder(m, m)"
   ]
  }
 ],
 "metadata": {
  "kernelspec": {
   "display_name": "Julia 1.9.3",
   "language": "julia",
   "name": "julia-1.9"
  },
  "language_info": {
   "file_extension": ".jl",
   "mimetype": "application/julia",
   "name": "julia",
   "version": "1.9.3"
  }
 },
 "nbformat": 4,
 "nbformat_minor": 2
}
