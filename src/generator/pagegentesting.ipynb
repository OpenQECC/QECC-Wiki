{
 "cells": [
  {
   "cell_type": "code",
   "execution_count": 1,
   "metadata": {},
   "outputs": [
    {
     "name": "stdout",
     "output_type": "stream",
     "text": [
      "phases: "
     ]
    },
    {
     "name": "stdout",
     "output_type": "stream",
     "text": [
      "UInt8[0x00, 0x00, 0x00, 0x00] type: "
     ]
    },
    {
     "name": "stdout",
     "output_type": "stream",
     "text": [
      "Vector{UInt8"
     ]
    },
    {
     "name": "stdout",
     "output_type": "stream",
     "text": [
      "}\n",
      "xs_matrix: "
     ]
    },
    {
     "name": "stdout",
     "output_type": "stream",
     "text": [
      "Bool[1 0 0 0] type: Matrix{Bool}\n",
      "zs_matrix: Bool[0 1 0 1] type: Matrix{Bool}\n"
     ]
    },
    {
     "name": "stdout",
     "output_type": "stream",
     "text": [
      "Stab string 2 tab: + XZ_Z\n"
     ]
    },
    {
     "ename": "LoadError",
     "evalue": "LoadError: BoundsError: attempt to access 2×1 Matrix{UInt64} at index [1:2, 2]\nin expression starting at c:\\Users\\benku\\Desktop\\College Documents\\Krastanov Independent Study\\QECC-Wiki\\src\\generator\\util\\pagegenerator.jl:1",
     "output_type": "error",
     "traceback": [
      "LoadError: BoundsError: attempt to access 2×1 Matrix{UInt64} at index [1:2, 2]\n",
      "in expression starting at c:\\Users\\benku\\Desktop\\College Documents\\Krastanov Independent Study\\QECC-Wiki\\src\\generator\\util\\pagegenerator.jl:1\n",
      "\n",
      "Stacktrace:\n",
      "  [1] throw_boundserror(A::Matrix{UInt64}, I::Tuple{Base.Slice{Base.OneTo{Int64}}, Int64})\n",
      "    @ Base .\\abstractarray.jl:744\n",
      "  [2] checkbounds\n",
      "    @ .\\abstractarray.jl:709 [inlined]\n",
      "  [3] _getindex\n",
      "    @ .\\multidimensional.jl:860 [inlined]\n",
      "  [4] getindex\n",
      "    @ .\\abstractarray.jl:1296 [inlined]\n",
      "  [5] getindex(tab::Tableau{Vector{UInt8}, Matrix{UInt64}}, i::Int64)\n",
      "    @ QuantumClifford C:\\Users\\benku\\.julia\\packages\\QuantumClifford\\6bVHK\\src\\QuantumClifford.jl:171\n",
      "  [6] _show(io::VSCodeServer.IJuliaCore.IJuliaStdio{Base.PipeEndpoint, typeof(VSCodeServer.io_send_callback)}, t::Tableau{Vector{UInt8}, Matrix{UInt64}}, limit::Missing, limit_vertical::Missing)\n",
      "    @ QuantumClifford C:\\Users\\benku\\.julia\\packages\\QuantumClifford\\6bVHK\\src\\tableau_show.jl:37\n",
      "  [7] show(io::VSCodeServer.IJuliaCore.IJuliaStdio{Base.PipeEndpoint, typeof(VSCodeServer.io_send_callback)}, t::Tableau{Vector{UInt8}, Matrix{UInt64}})\n",
      "    @ QuantumClifford C:\\Users\\benku\\.julia\\packages\\QuantumClifford\\6bVHK\\src\\tableau_show.jl:51\n",
      "  [8] print(io::VSCodeServer.IJuliaCore.IJuliaStdio{Base.PipeEndpoint, typeof(VSCodeServer.io_send_callback)}, x::Tableau{Vector{UInt8}, Matrix{UInt64}})\n",
      "    @ Base .\\strings\\io.jl:35\n",
      "  [9] print(::VSCodeServer.IJuliaCore.IJuliaStdio{Base.PipeEndpoint, typeof(VSCodeServer.io_send_callback)}, ::String, ::Tableau{Vector{UInt8}, Matrix{UInt64}}, ::Vararg{Any})\n",
      "    @ Base .\\strings\\io.jl:46\n",
      " [10] println(::VSCodeServer.IJuliaCore.IJuliaStdio{Base.PipeEndpoint, typeof(VSCodeServer.io_send_callback)}, ::String, ::Vararg{Any})\n",
      "    @ Base .\\strings\\io.jl:75\n",
      " [11] println(::String, ::Tableau{Vector{UInt8}, Matrix{UInt64}})\n",
      "    @ Base .\\coreio.jl:4\n",
      " [12] example()\n",
      "    @ Main.pagegenerator c:\\Users\\benku\\Desktop\\College Documents\\Krastanov Independent Study\\QECC-Wiki\\src\\generator\\util\\pagegenerator.jl:37\n",
      " [13] main()\n",
      "    @ Main.pagegenerator c:\\Users\\benku\\Desktop\\College Documents\\Krastanov Independent Study\\QECC-Wiki\\src\\generator\\util\\pagegenerator.jl:125\n",
      " [14] top-level scope\n",
      "    @ c:\\Users\\benku\\Desktop\\College Documents\\Krastanov Independent Study\\QECC-Wiki\\src\\generator\\util\\pagegenerator.jl:140"
     ]
    }
   ],
   "source": [
    "using QuantumClifford\n",
    "using QuantumClifford: Tableau\n",
    "using QuantumClifford.ECC\n",
    "using Quantikz\n",
    "\n",
    "include(\"util/pagegenerator.jl\")\n",
    "include(\"util/converter.jl\")\n",
    "\n",
    "using .pagegenerator\n",
    "using .converter\n",
    "using .converter: stabilizerStringToTableau"
   ]
  },
  {
   "cell_type": "code",
   "execution_count": 2,
   "metadata": {},
   "outputs": [
    {
     "name": "stdout",
     "output_type": "stream",
     "text": [
      "phases: "
     ]
    },
    {
     "name": "stdout",
     "output_type": "stream",
     "text": [
      "UInt8[0x00, 0x01] type: "
     ]
    },
    {
     "name": "stdout",
     "output_type": "stream",
     "text": [
      "Vector{"
     ]
    },
    {
     "name": "stdout",
     "output_type": "stream",
     "text": [
      "UInt8}\n",
      "xs_matrix: "
     ]
    },
    {
     "name": "stdout",
     "output_type": "stream",
     "text": [
      "Bool[1 1] type: Matrix{Bool}\n",
      "zs_matrix: Bool[0 1] type: Matrix{Bool}\n"
     ]
    },
    {
     "data": {
      "text/plain": [
       "0"
      ]
     },
     "metadata": {},
     "output_type": "display_data"
    }
   ],
   "source": [
    "stabilizerStringToTableau(\"XY\")"
   ]
  },
  {
   "cell_type": "code",
   "execution_count": 5,
   "metadata": {},
   "outputs": [
    {
     "ename": "UndefVarError",
     "evalue": "UndefVarError: `naive_syndrome_circuit` not defined",
     "output_type": "error",
     "traceback": [
      "UndefVarError: `naive_syndrome_circuit` not defined\n",
      "\n",
      "Stacktrace:\n",
      " [1] top-level scope\n",
      "   @ c:\\Users\\benku\\Desktop\\College Documents\\Krastanov Independent Study\\QECC-Wiki\\src\\generator\\pagegentesting.ipynb:1"
     ]
    }
   ],
   "source": [
    "naive_syndrome_circuit()"
   ]
  },
  {
   "cell_type": "code",
   "execution_count": 18,
   "metadata": {},
   "outputs": [
    {
     "name": "stdout",
     "output_type": "stream",
     "text": [
      "Any[Any[1]]"
     ]
    }
   ],
   "source": [
    "a = []\n",
    "\n",
    "push!(a, [])\n",
    "push!(a[1], 1)\n",
    "print(a)"
   ]
  },
  {
   "cell_type": "code",
   "execution_count": 22,
   "metadata": {},
   "outputs": [
    {
     "data": {
      "text/plain": [
       "stabilizerStringToTableau (generic function with 1 method)"
      ]
     },
     "metadata": {},
     "output_type": "display_data"
    }
   ],
   "source": [
    "function stabilizerStringToTableau(stabilizer_str::String)\n",
    "    # Define the mapping for Pauli operators to [phase, x, z]\n",
    "    pauli_mapping = Dict(\n",
    "        'I' => ('+', false, false),\n",
    "        'X' => ('+', true,  false),\n",
    "        'Y' => ('-', true,  true),\n",
    "        'Z' => ('+', false, true)\n",
    "    )\n",
    "    \n",
    "    stab_string_arr = split(stabilizer_str, '\\n')\n",
    "    rows = length(stab_string_arr)\n",
    "\n",
    "    phases = UInt8[]\n",
    "    xs = Bool[]\n",
    "    zs = Bool[]\n",
    "    push!(phases, UInt8[])\n",
    "    push!(xs, Bool[])\n",
    "    push!(zs, Bool[])\n",
    "    \n",
    "    row = 1\n",
    "    for char in stabilizer_str\n",
    "       if char == '\\n'\n",
    "        push!(xs, Bool[])\n",
    "        push!(zs, Bool[])\n",
    "       end\n",
    "        phase, x, z = pauli_mapping[char]\n",
    "        \n",
    "        # Convert phase from char to UInt8 (0 for '+', 1 for '-')\n",
    "        push!(phases, phase == '+' ? UInt8(0) : UInt8(1))\n",
    "        \n",
    "        push!(xs[row], x)\n",
    "        push!(zs[row], z)\n",
    "    end\n",
    "    \n",
    "    # Convert arrays to desired format for Tableau\n",
    "    xs_matrix = reshape(xs, 1, length(xs))\n",
    "    zs_matrix = reshape(zs, 1, length(zs))\n",
    "\n",
    "    # Create and return the Tableau\n",
    "    println(\"phases: \", phases, \" type: \", typeof(phases))\n",
    "    println(\"xs_matrix: \", xs_matrix, \" type: \", typeof(xs_matrix))\n",
    "    println(\"zs_matrix: \", zs_matrix, \" type: \", typeof(zs_matrix))\n",
    "   #  return 0\n",
    "    return Tableau(phases, xs_matrix, zs_matrix)\n",
    "end"
   ]
  },
  {
   "cell_type": "code",
   "execution_count": 23,
   "metadata": {},
   "outputs": [
    {
     "ename": "MethodError",
     "evalue": "MethodError: Cannot `convert` an object of type Vector{UInt8} to an object of type UInt8\n\nClosest candidates are:\n  convert(::Type{T}, !Matched::Base.TwicePrecision) where T<:Number\n   @ Base twiceprecision.jl:273\n  convert(::Type{T}, !Matched::AbstractChar) where T<:Number\n   @ Base char.jl:185\n  convert(::Type{T}, !Matched::CartesianIndex{1}) where T<:Number\n   @ Base multidimensional.jl:127\n  ...\n",
     "output_type": "error",
     "traceback": [
      "MethodError: Cannot `convert` an object of type Vector{UInt8} to an object of type UInt8\n",
      "\n",
      "Closest candidates are:\n",
      "  convert(::Type{T}, !Matched::Base.TwicePrecision) where T<:Number\n",
      "   @ Base twiceprecision.jl:273\n",
      "  convert(::Type{T}, !Matched::AbstractChar) where T<:Number\n",
      "   @ Base char.jl:185\n",
      "  convert(::Type{T}, !Matched::CartesianIndex{1}) where T<:Number\n",
      "   @ Base multidimensional.jl:127\n",
      "  ...\n",
      "\n",
      "\n",
      "Stacktrace:\n",
      " [1] push!(a::Vector{UInt8}, item::Vector{UInt8})\n",
      "   @ Base .\\array.jl:1060\n",
      " [2] stabilizerStringToTableau(stabilizer_str::String)\n",
      "   @ Main c:\\Users\\benku\\Desktop\\College Documents\\Krastanov Independent Study\\QECC-Wiki\\src\\generator\\pagegentesting.ipynb:13\n",
      " [3] top-level scope\n",
      "   @ c:\\Users\\benku\\Desktop\\College Documents\\Krastanov Independent Study\\QECC-Wiki\\src\\generator\\pagegentesting.ipynb:1"
     ]
    }
   ],
   "source": [
    "print(stabilizerStringToTableau(\"XYZI\"))"
   ]
  },
  {
   "cell_type": "code",
   "execution_count": 1,
   "metadata": {},
   "outputs": [
    {
     "name": "stdout",
     "output_type": "stream",
     "text": [
      "[5, 7, 9]\n"
     ]
    }
   ],
   "source": [
    "a = [1, 2, 3]\n",
    "b = [4, 5, 6]\n",
    "c = a + b\n",
    "println(c / 2)"
   ]
  }
 ],
 "metadata": {
  "kernelspec": {
   "display_name": "Julia 1.9.3",
   "language": "julia",
   "name": "julia-1.9"
  },
  "language_info": {
   "file_extension": ".jl",
   "mimetype": "application/julia",
   "name": "julia",
   "version": "1.9.3"
  }
 },
 "nbformat": 4,
 "nbformat_minor": 2
}
