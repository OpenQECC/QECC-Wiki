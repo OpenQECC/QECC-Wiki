{
 "cells": [
  {
   "cell_type": "code",
   "execution_count": 1,
   "metadata": {
    "slideshow": {
     "slide_type": "skip"
    },
    "tags": []
   },
   "outputs": [
    {
     "name": "stdout",
     "output_type": "stream",
     "text": [
      " 10.340608 seconds (11.81 M allocations: 718.954 MiB, 3.15% gc time, 0.43% compilation time: 34% of which was recompilation)"
     ]
    },
    {
     "name": "stdout",
     "output_type": "stream",
     "text": [
      "\n",
      "  0.293313 seconds (21.58 k allocations: 1.295 MiB)\n"
     ]
    },
    {
     "name": "stdout",
     "output_type": "stream",
     "text": [
      "  1.573500 seconds (1.43 M allocations: 90.734 MiB, 2.55% gc time, 0.71% compilation time)\n",
      "  0.000543 seconds (460 allocations: 30.789 KiB)\n",
      "Threads.nthreads() = 1\n"
     ]
    }
   ],
   "source": [
    "using Revise\n",
    "@time using CairoMakie      # For plotting (incluing tableau diagrams)\n",
    "@time using Quantikz        # For drawing quantum circuits\n",
    "@time using QuantumClifford # For quantum Clifford circuits\n",
    "@time using QuantumClifford.ECC: parity_checks, Steane7, Shor9, naive_syndrome_circuit\n",
    "@show Threads.nthreads();"
   ]
  },
  {
   "cell_type": "code",
   "execution_count": 2,
   "metadata": {
    "slideshow": {
     "slide_type": "skip"
    },
    "tags": []
   },
   "outputs": [
    {
     "name": "stdout",
     "output_type": "stream",
     "text": [
      "Julia Version 1.9.3\n",
      "Commit bed2cd540a (2023-08-24 14:43 UTC)\n",
      "Build Info:\n",
      "  Official https://julialang.org/ release\n",
      "Platform Info:\n",
      "  OS: Windows (x86_64-w64-mingw32)\n",
      "  CPU: 24 × 13th Gen Intel(R) Core(TM) i7-13700KF\n",
      "  WORD_SIZE: 64\n",
      "  LIBM: libopenlibm\n",
      "  LLVM: libLLVM-14.0.6 (ORCJIT, goldmont)\n",
      "  Threads: 1 on 24 virtual cores\n",
      "Environment:\n",
      "  JULIA_NUM_THREADS = \n"
     ]
    }
   ],
   "source": [
    "versioninfo()"
   ]
  },
  {
   "cell_type": "code",
   "execution_count": 3,
   "metadata": {
    "slideshow": {
     "slide_type": "skip"
    },
    "tags": []
   },
   "outputs": [],
   "source": [
    "\"\"\"A helper function used later on to plot the performance of a code.\"\"\"\n",
    "function plot_code_performance(error_rates, post_ec_error_rates; title=\"\")\n",
    "    f = Figure(resolution=(500,300))\n",
    "    ax = f[1,1] = Axis(f, xlabel=\"single (qu)bit error rate\",title=title)\n",
    "    ax.aspect = DataAspect()\n",
    "    lim = max(error_rates[end],post_ec_error_rates[end])\n",
    "    lines!([0,lim], [0,lim], label=\"single bit\", color=:black)\n",
    "    plot!(error_rates, post_ec_error_rates, label=\"after decoding\", color=:black)\n",
    "    xlims!(0,lim)\n",
    "    ylims!(0,lim)\n",
    "    f[1,2] = Legend(f, ax, \"Error Rates\")\n",
    "    f\n",
    "end;"
   ]
  },
  {
   "cell_type": "code",
   "execution_count": 4,
   "metadata": {
    "slideshow": {
     "slide_type": "skip"
    },
    "tags": []
   },
   "outputs": [],
   "source": [
    "make_noisy(gate,noise) = gate\n",
    "make_noisy(gate::sCNOT,noise) = NoisyGate(gate,noise)\n",
    "make_noisy(gates::Vector,noise) = make_noisy.(gates,(noise,)); # TODO move to quantum clifford"
   ]
  },
  {
   "cell_type": "markdown",
   "metadata": {
    "slideshow": {
     "slide_type": "slide"
    }
   },
   "source": [
    "# A Brief Error Correction Tutorial with `QuantumClifford.jl`\n",
    "\n",
    "Typical \"error correction\" is based on using many (qu)bits with (linear) redundancies between them to encode fewer more error-resilient (qu)bits. We will go through a few examples in the classical and quantum case.\n",
    "\n",
    "We will estimate the logical error rate of various codes (the error rates after attempts at correction) for a given physical error rate (the error rate of the underlying physical (qu)bits)."
   ]
  },
  {
   "cell_type": "markdown",
   "metadata": {
    "slideshow": {
     "slide_type": "slide"
    }
   },
   "source": [
    "## Classical Linear Codes\n",
    "\n",
    "### Example with a simple repetition code on three bits"
   ]
  },
  {
   "cell_type": "markdown",
   "metadata": {
    "slideshow": {
     "slide_type": "slide"
    }
   },
   "source": [
    "Consider the repetion code on three bits:"
   ]
  },
  {
   "cell_type": "code",
   "execution_count": 7,
   "metadata": {
    "slideshow": {
     "slide_type": "fragment"
    }
   },
   "outputs": [],
   "source": [
    "# Parity check matrix\n",
    "Hᵣₑₚ₃ = [1 1 0;\n",
    "         0 1 1]\n",
    "\n",
    "# A code word\n",
    "code_word = [1\n",
    "             1\n",
    "             1];"
   ]
  },
  {
   "cell_type": "markdown",
   "metadata": {
    "slideshow": {
     "slide_type": "fragment"
    }
   },
   "source": [
    "It fulfills the parity constraints $H\\cdot \\vec{c} = 0$"
   ]
  },
  {
   "cell_type": "code",
   "execution_count": 6,
   "metadata": {
    "slideshow": {
     "slide_type": "fragment"
    }
   },
   "outputs": [
    {
     "data": {
      "text/plain": [
       "2-element Vector{Int64}:\n",
       " 0\n",
       " 0"
      ]
     },
     "metadata": {},
     "output_type": "display_data"
    }
   ],
   "source": [
    " (Hᵣₑₚ₃ * code_word) .% 2"
   ]
  },
  {
   "cell_type": "markdown",
   "metadata": {
    "slideshow": {
     "slide_type": "slide"
    }
   },
   "source": [
    "Consider an error:"
   ]
  },
  {
   "cell_type": "code",
   "execution_count": 9,
   "metadata": {
    "slideshow": {
     "slide_type": "fragment"
    }
   },
   "outputs": [],
   "source": [
    "error = [1\n",
    "         0\n",
    "         0];"
   ]
  },
  {
   "cell_type": "code",
   "execution_count": 16,
   "metadata": {},
   "outputs": [],
   "source": [
    "error_2 = [1\n",
    "           1\n",
    "           0];"
   ]
  },
  {
   "cell_type": "markdown",
   "metadata": {
    "slideshow": {
     "slide_type": "fragment"
    }
   },
   "source": [
    "The parity constraint is broken if we apply the error"
   ]
  },
  {
   "cell_type": "code",
   "execution_count": 10,
   "metadata": {
    "slideshow": {
     "slide_type": "fragment"
    }
   },
   "outputs": [
    {
     "data": {
      "text/plain": [
       "2-element Vector{Int64}:\n",
       " 1\n",
       " 0"
      ]
     },
     "metadata": {},
     "output_type": "display_data"
    }
   ],
   "source": [
    "(Hᵣₑₚ₃ * (error .⊻ code_word)) .% 2"
   ]
  },
  {
   "cell_type": "code",
   "execution_count": 17,
   "metadata": {},
   "outputs": [
    {
     "data": {
      "text/plain": [
       "2-element Vector{Int64}:\n",
       " 0\n",
       " 1"
      ]
     },
     "metadata": {},
     "output_type": "display_data"
    }
   ],
   "source": [
    "(Hᵣₑₚ₃ * (error_2 .⊻ code_word)) .% 2"
   ]
  },
  {
   "cell_type": "markdown",
   "metadata": {
    "slideshow": {
     "slide_type": "slide"
    }
   },
   "source": [
    "### Notice the pattern of failed constraints (the syndrome) does not depend on the code word\n",
    "\n",
    "### $H\\cdot\\left(\\vec{e} + \\vec{c}\\right)$"
   ]
  },
  {
   "cell_type": "markdown",
   "metadata": {
    "slideshow": {
     "slide_type": "fragment"
    }
   },
   "source": [
    "### $H\\cdot\\left(\\vec{e} + \\vec{c}\\right) = H\\cdot\\vec{e} + H\\cdot\\vec{c}$"
   ]
  },
  {
   "cell_type": "markdown",
   "metadata": {
    "slideshow": {
     "slide_type": "fragment"
    }
   },
   "source": [
    "### $H\\cdot\\left(\\vec{e} + \\vec{c}\\right) = H\\cdot\\vec{e} + H\\cdot\\vec{c} = H\\cdot\\vec{e}$"
   ]
  },
  {
   "cell_type": "markdown",
   "metadata": {
    "slideshow": {
     "slide_type": "fragment"
    }
   },
   "source": [
    "### $H\\cdot\\left(\\vec{e} + \\vec{c}\\right) = H\\cdot\\vec{e} + H\\cdot\\vec{c} = H\\cdot\\vec{e} = \\vec{s}$"
   ]
  },
  {
   "cell_type": "markdown",
   "metadata": {
    "slideshow": {
     "slide_type": "slide"
    }
   },
   "source": [
    "### Error correction = Syndrome decoding\n",
    "\n",
    "#### Mapping $\\vec{s} \\rightarrow \\vec{e}$\n",
    "\n",
    "Performing the decoding efficiently is a difficult task, target of many research efforts. Evaluating the usefulness of a code frequently involves not only studying the abstract properties of the code, but also the tradeoffs between different available decoders. For the purpose of this tutorial, we will create trivial \"look-up table\" decoders, which become incredibly inefficient as the size of the code grows. To evaluate another decoder, simply plug it in instead of the lookup table."
   ]
  },
  {
   "cell_type": "code",
   "execution_count": 19,
   "metadata": {
    "slideshow": {
     "slide_type": "fragment"
    }
   },
   "outputs": [],
   "source": [
    "\"\"\"Generate a lookup table for decoding single bit errors. Maps s⃗ → e⃗.\"\"\"\n",
    "function create_lookup_table(H)\n",
    "    lookup_table = Dict()\n",
    "    constraints, bits = size(H)\n",
    "    # In the case of no errors\n",
    "    lookup_table[ zeros(Int, constraints) ] = zeros(Int, bits)\n",
    "    # In the case of single bit errors\n",
    "    for bit_to_be_flipped in 1:bits\n",
    "        # Generate e⃗\n",
    "        error = zeros(Int, bits)\n",
    "        error[bit_to_be_flipped] = 1\n",
    "        # Calculate s⃗\n",
    "        syndrome = (H*error) .% 2\n",
    "        # Store s⃗ → e⃗\n",
    "        lookup_table[syndrome] = error\n",
    "    end\n",
    "    lookup_table\n",
    "end;"
   ]
  },
  {
   "cell_type": "code",
   "execution_count": 20,
   "metadata": {},
   "outputs": [
    {
     "data": {
      "text/plain": [
       "create_lookup_table_2_errors"
      ]
     },
     "metadata": {},
     "output_type": "display_data"
    }
   ],
   "source": [
    "\"\"\"Decoder for two error correcting code, derived from the code above\"\"\"\n",
    "function create_lookup_table_2_errors(H)\n",
    "    lookup_table_two = Dict()\n",
    "    constraints, bits = size(H)\n",
    "    \n",
    "    # In the case of no errors\n",
    "    lookup_table_two[ zeros(Int, constraints) ] = zeros(Int, bits)\n",
    "    \n",
    "    # In the case of single bit errors\n",
    "    for i in 1:bits\n",
    "        error = zeros(Int, bits)\n",
    "        error[i] = 1\n",
    "        syndrome = (H*error) .% 2\n",
    "        lookup_table_two[syndrome] = error\n",
    "    end\n",
    "\n",
    "    # In the case of double bit errors\n",
    "    for i in 1:bits\n",
    "        for j in (i+1):bits\n",
    "            error = zeros(Int, bits)\n",
    "            error[i] = 1\n",
    "            error[j] = 1\n",
    "            syndrome = (H*error) .% 2\n",
    "            lookup_table_two[syndrome] = error\n",
    "        end\n",
    "    end\n",
    "        lookup_table_two\n",
    "end\n"
   ]
  },
  {
   "cell_type": "code",
   "execution_count": 21,
   "metadata": {},
   "outputs": [
    {
     "data": {
      "text/plain": [
       "create_lookup_table_3_errors"
      ]
     },
     "metadata": {},
     "output_type": "display_data"
    }
   ],
   "source": [
    "\"\"\"Decoder for three error correcting code, derived from the code above\"\"\"\n",
    "function create_lookup_table_3_errors(H)\n",
    "    lookup_table_three = Dict()\n",
    "    constraints, bits = size(H)\n",
    "    \n",
    "    # In the case of no errors\n",
    "    lookup_table_three[ zeros(Int, constraints) ] = zeros(Int, bits)\n",
    "    \n",
    "    # In the case of single bit errors\n",
    "    for i in 1:bits\n",
    "        error = zeros(Int, bits)\n",
    "        error[i] = 1\n",
    "        syndrome = (H*error) .% 2\n",
    "        lookup_table_three[syndrome] = error\n",
    "    end\n",
    "\n",
    "    # In the case of double bit errors\n",
    "    for i in 1:bits\n",
    "        for j in (i+1):bits\n",
    "            error = zeros(Int, bits)\n",
    "            error[i] = 1\n",
    "            error[j] = 1\n",
    "            syndrome = (H*error) .% 2\n",
    "            lookup_table_three[syndrome] = error\n",
    "        end\n",
    "    end\n",
    "\n",
    "    # In the case of triple bit errors\n",
    "    for i in 1:bits\n",
    "        for j in (i+1):bits\n",
    "            for k in (j+1):bits\n",
    "                error = zeros(Int, bits)\n",
    "                error[i] = 1\n",
    "                error[j] = 1\n",
    "                error[k] = 1\n",
    "                syndrome = (H*error) .% 2\n",
    "                lookup_table_three[syndrome] = error\n",
    "            end\n",
    "        end\n",
    "    end\n",
    "    lookup_table_three\n",
    "end\n"
   ]
  },
  {
   "cell_type": "code",
   "execution_count": 23,
   "metadata": {
    "slideshow": {
     "slide_type": "fragment"
    }
   },
   "outputs": [
    {
     "data": {
      "text/plain": [
       "Dict{Any, Any} with 4 entries:\n",
       "  [0, 0] => [0, 0, 0]\n",
       "  [1, 1] => [0, 1, 0]\n",
       "  [1, 0] => [1, 0, 0]\n",
       "  [0, 1] => [0, 0, 1]"
      ]
     },
     "metadata": {},
     "output_type": "display_data"
    }
   ],
   "source": [
    "rep3_lookup_table = create_lookup_table(Hᵣₑₚ₃)"
   ]
  },
  {
   "cell_type": "code",
   "execution_count": 27,
   "metadata": {},
   "outputs": [
    {
     "data": {
      "text/plain": [
       "Dict{Any, Any} with 4 entries:\n",
       "  [0, 0] => [0, 0, 0]\n",
       "  [1, 1] => [1, 0, 1]\n",
       "  [1, 0] => [0, 1, 1]\n",
       "  [0, 1] => [1, 1, 0]"
      ]
     },
     "metadata": {},
     "output_type": "display_data"
    }
   ],
   "source": [
    "rep3_lookup_table = create_lookup_table_2_errors(Hᵣₑₚ₃)"
   ]
  },
  {
   "cell_type": "code",
   "execution_count": 22,
   "metadata": {},
   "outputs": [
    {
     "data": {
      "text/plain": [
       "Dict{Any, Any} with 4 entries:\n",
       "  [0, 0] => [1, 1, 1]\n",
       "  [1, 1] => [1, 0, 1]\n",
       "  [1, 0] => [0, 1, 1]\n",
       "  [0, 1] => [1, 1, 0]"
      ]
     },
     "metadata": {},
     "output_type": "display_data"
    }
   ],
   "source": [
    "rep3_lookup_table = create_lookup_table_3_errors(Hᵣₑₚ₃)"
   ]
  },
  {
   "cell_type": "markdown",
   "metadata": {
    "slideshow": {
     "slide_type": "slide"
    }
   },
   "source": [
    "### Monte Carlo evaluation of the code **and** decoder\n",
    "\n",
    "We will repeatedly generate random errors and see what fraction of them we successfully correct."
   ]
  },
  {
   "cell_type": "code",
   "execution_count": 13,
   "metadata": {
    "slideshow": {
     "slide_type": "fragment"
    }
   },
   "outputs": [],
   "source": [
    "\"\"\"For a given physical bit-flip error rate, parity check matrix, and a lookup table,\n",
    "estimate logical error rate\"\"\"\n",
    "function evaluate_code_decoder(H,lookup_table,p; samples=10_000)\n",
    "    constraints, bits = size(H)\n",
    "    decoded = 0 # Counts correct decodings\n",
    "    for sample in 1:samples\n",
    "        error = rand(bits) .< p                    # Generate random error\n",
    "        syndrome = (H*error) .% 2                  # Apply that error to your physical system and get syndrome\n",
    "        guess = get(lookup_table,syndrome,nothing) # Decode the syndrome\n",
    "        if guess==error                            # Check if you were right\n",
    "            decoded += 1\n",
    "        end\n",
    "    end\n",
    "    1 - decoded / samples\n",
    "end;"
   ]
  },
  {
   "cell_type": "code",
   "execution_count": 14,
   "metadata": {
    "slideshow": {
     "slide_type": "slide"
    }
   },
   "outputs": [
    {
     "name": "stdout",
     "output_type": "stream",
     "text": [
      "  0.206358 seconds (1.09 M allocations: 71.124 MiB, 12.09% gc time, 89.79% compilation time)\n"
     ]
    }
   ],
   "source": [
    "error_rates = 0.01:0.05:0.5\n",
    "@time post_ec_error_rates = [evaluate_code_decoder(Hᵣₑₚ₃,rep3_lookup_table,p) for p in error_rates];"
   ]
  },
  {
   "cell_type": "code",
   "execution_count": 15,
   "metadata": {
    "slideshow": {
     "slide_type": "fragment"
    }
   },
   "outputs": [
    {
     "data": {
      "image/png": "[encoded data removed]"
     },
     "metadata": {},
     "output_type": "display_data"
    }
   ],
   "source": [
    "plot_code_performance(error_rates, post_ec_error_rates, title=\"3-Repetition code\")"
   ]
  },
  {
   "cell_type": "markdown",
   "metadata": {
    "slideshow": {
     "slide_type": "slide"
    }
   },
   "source": [
    "## Quantum Error Correction"
   ]
  },
  {
   "cell_type": "markdown",
   "metadata": {
    "slideshow": {
     "slide_type": "slide"
    }
   },
   "source": [
    "### Steane's 7-qubit code\n",
    "\n",
    "We will pick the Steane code as the first quantum code for which to perform the same estimates. In the case of a quantum code, the binary parity check matrix becomes the stabilizer tableau (a matrix where each element corresponds to a Pauli operator). The parity being checked now, is the parity corresponding to a multi-qubit measurement in the given Pauli basis."
   ]
  },
  {
   "cell_type": "code",
   "execution_count": 16,
   "metadata": {
    "slideshow": {
     "slide_type": "fragment"
    }
   },
   "outputs": [
    {
     "data": {
      "text/plain": [
       "+ ___XXXX\n",
       "+ _XX__XX\n",
       "+ X_X_X_X\n",
       "+ ___ZZZZ\n",
       "+ _ZZ__ZZ\n",
       "+ Z_Z_Z_Z"
      ]
     },
     "metadata": {},
     "output_type": "display_data"
    }
   ],
   "source": [
    "codeˢᵗᵉᵃⁿᵉ = parity_checks(Steane7())"
   ]
  },
  {
   "cell_type": "markdown",
   "metadata": {
    "slideshow": {
     "slide_type": "slide"
    }
   },
   "source": [
    "### Single-Shot Error Correction Estimates against Pauli noise on non-degenerate codes\n",
    "\n",
    "We will consider only Pauli noise for the moment. And we will consider only situations in which the syndrome is measured and decoded once.\n",
    "\n",
    "We will assume that all encoding/decoding quantum operations are perfect here. I.e. we are estimating error correction performance of a quantum memory/channel with perfect circuitry but noisy storage/transmission, not the fault tollerance performance of a noisy quantum computer.\n",
    "\n",
    "Our first setup would be capable of evaluating only non-degenerate codes."
   ]
  },
  {
   "cell_type": "code",
   "execution_count": 19,
   "metadata": {
    "slideshow": {
     "slide_type": "slide"
    }
   },
   "outputs": [],
   "source": [
    "\"\"\"Generate a lookup table for decoding single qubit errors. Maps s⃗ → e⃗.\"\"\"\n",
    "function create_lookup_table(code::Stabilizer)\n",
    "    lookup_table = Dict()\n",
    "    constraints, qubits = size(code)\n",
    "    # In the case of no errors\n",
    "    lookup_table[ zeros(UInt8, constraints) ] = zero(PauliOperator, qubits)\n",
    "    # In the case of single bit errors\n",
    "    for bit_to_be_flipped in 1:qubits\n",
    "        for error_type in [single_x, single_y, single_z]\n",
    "            # Generate e⃗\n",
    "            error = error_type(qubits, bit_to_be_flipped)\n",
    "            # Calculate s⃗\n",
    "            # (check which stabilizer rows do not commute with the Pauli error)\n",
    "            syndrome = comm(error, code)\n",
    "            # Store s⃗ → e⃗\n",
    "            lookup_table[syndrome] = error\n",
    "        end\n",
    "    end\n",
    "    lookup_table\n",
    "end;"
   ]
  },
  {
   "cell_type": "markdown",
   "metadata": {
    "slideshow": {
     "slide_type": "slide"
    }
   },
   "source": [
    "The lookup table for the Steane code contains an entry for all $3\\times 7=21$ single-qubit errors and an extra entry for no errors."
   ]
  },
  {
   "cell_type": "code",
   "execution_count": 20,
   "metadata": {
    "slideshow": {
     "slide_type": "fragment"
    }
   },
   "outputs": [
    {
     "data": {
      "text/plain": [
       "Dict{Any, Any} with 22 entries:\n",
       "  UInt8[0x00, 0x00, 0x00, 0x00, 0x01, 0x01] => + __X____\n",
       "  UInt8[0x01, 0x01, 0x00, 0x00, 0x00, 0x00] => + _____Z_\n",
       "  UInt8[0x00, 0x00, 0x00, 0x00, 0x01, 0x00] => + _X_____\n",
       "  UInt8[0x01, 0x00, 0x01, 0x01, 0x00, 0x01] => + ____Y__\n",
       "  UInt8[0x00, 0x01, 0x01, 0x00, 0x00, 0x00] => + __Z____\n",
       "  UInt8[0x01, 0x00, 0x00, 0x01, 0x00, 0x00] => + ___Y___\n",
       "  UInt8[0x00, 0x01, 0x01, 0x00, 0x01, 0x01] => + __Y____\n",
       "  UInt8[0x01, 0x00, 0x01, 0x00, 0x00, 0x00] => + ____Z__\n",
       "  UInt8[0x00, 0x01, 0x00, 0x00, 0x00, 0x00] => + _Z_____\n",
       "  UInt8[0x00, 0x01, 0x00, 0x00, 0x01, 0x00] => + _Y_____\n",
       "  UInt8[0x01, 0x00, 0x00, 0x00, 0x00, 0x00] => + ___Z___\n",
       "  UInt8[0x00, 0x00, 0x00, 0x01, 0x00, 0x01] => + ____X__\n",
       "  UInt8[0x01, 0x01, 0x01, 0x01, 0x01, 0x01] => + ______Y\n",
       "  UInt8[0x00, 0x00, 0x00, 0x01, 0x00, 0x00] => + ___X___\n",
       "  UInt8[0x00, 0x00, 0x00, 0x01, 0x01, 0x01] => + ______X\n",
       "  UInt8[0x00, 0x00, 0x01, 0x00, 0x00, 0x01] => + Y______\n",
       "  UInt8[0x00, 0x00, 0x00, 0x01, 0x01, 0x00] => + _____X_\n",
       "  UInt8[0x00, 0x00, 0x01, 0x00, 0x00, 0x00] => + Z______\n",
       "  UInt8[0x01, 0x01, 0x00, 0x01, 0x01, 0x00] => + _____Y_\n",
       "  ⋮                                         => ⋮"
      ]
     },
     "metadata": {},
     "output_type": "display_data"
    }
   ],
   "source": [
    "steane_table = create_lookup_table(codeˢᵗᵉᵃⁿᵉ)"
   ]
  },
  {
   "cell_type": "code",
   "execution_count": 21,
   "metadata": {
    "slideshow": {
     "slide_type": "slide"
    }
   },
   "outputs": [],
   "source": [
    "\"\"\"For a given physical bit-flip error rate, parity check matrix, and a lookup table,\n",
    "estimate logical error rate, assuming non-degenerate code.\"\"\"\n",
    "function evaluate_code_decoder(code::Stabilizer,lookup_table,p; samples=10_000)\n",
    "    constraints, qubits = size(code)\n",
    "    decoded = 0 # Counts correct decodings\n",
    "    for sample in 1:samples\n",
    "        # Generate random error\n",
    "        error = random_pauli(qubits,p/3,nophase=true)\n",
    "        # Apply that error to your physical system\n",
    "        # and get syndrome\n",
    "        syndrome = comm(error, code)\n",
    "        # Decode the syndrome\n",
    "        guess = get(lookup_table,syndrome,nothing)\n",
    "        # check if you were right\n",
    "        if guess==error\n",
    "            decoded += 1\n",
    "        end\n",
    "    end\n",
    "    1 - decoded / samples\n",
    "    end;"
   ]
  },
  {
   "cell_type": "code",
   "execution_count": 22,
   "metadata": {
    "slideshow": {
     "slide_type": "slide"
    }
   },
   "outputs": [
    {
     "name": "stdout",
     "output_type": "stream",
     "text": [
      "  0.320457 seconds (5.90 M allocations: 200.565 MiB, 16.62% gc time, 25.90% compilation time)\n"
     ]
    },
    {
     "data": {
      "image/png": "[encoded data removed]"
     },
     "metadata": {},
     "output_type": "display_data"
    }
   ],
   "source": [
    "error_rates = 0.000:0.005:0.09\n",
    "@time post_ec_error_rates = [evaluate_code_decoder(codeˢᵗᵉᵃⁿᵉ, steane_table, p) for p in error_rates]\n",
    "plot_code_performance(error_rates, post_ec_error_rates, title=\"Steane quantum code\")"
   ]
  },
  {
   "cell_type": "markdown",
   "metadata": {
    "slideshow": {
     "slide_type": "slide"
    }
   },
   "source": [
    "### Shor's 9-qubit code\n",
    "\n",
    "Shor's code is degenerate (a property to be explained shortly), which requires a slight modification to our approach."
   ]
  },
  {
   "cell_type": "code",
   "execution_count": 23,
   "metadata": {
    "slideshow": {
     "slide_type": "fragment"
    }
   },
   "outputs": [
    {
     "data": {
      "text/plain": [
       "+ ZZ_______\n",
       "+ _ZZ______\n",
       "+ ___ZZ____\n",
       "+ ____ZZ___\n",
       "+ ______ZZ_\n",
       "+ _______ZZ\n",
       "+ XXXXXX___\n",
       "+ ___XXXXXX"
      ]
     },
     "metadata": {},
     "output_type": "display_data"
    }
   ],
   "source": [
    "codeˢʰᵒʳ = parity_checks(Shor9())"
   ]
  },
  {
   "cell_type": "markdown",
   "metadata": {
    "slideshow": {
     "slide_type": "slide"
    }
   },
   "source": [
    "We will attempt the same form of performance evaluation as above for the Shor code."
   ]
  },
  {
   "cell_type": "code",
   "execution_count": 24,
   "metadata": {
    "slideshow": {
     "slide_type": "fragment"
    }
   },
   "outputs": [
    {
     "name": "stdout",
     "output_type": "stream",
     "text": [
      "  0.250131 seconds (5.73 M allocations: 190.285 MiB, 20.48% gc time, 5.72% compilation time)\n"
     ]
    },
    {
     "data": {
      "image/png": "[encoded data removed]"
     },
     "metadata": {},
     "output_type": "display_data"
    }
   ],
   "source": [
    "shor_table = create_lookup_table(codeˢʰᵒʳ)\n",
    "error_rates = 0.000:0.005:0.09\n",
    "@time post_ec_error_rates = [evaluate_code_decoder(codeˢʰᵒʳ, shor_table, p) for p in error_rates]\n",
    "plot_code_performance(error_rates, post_ec_error_rates, title=\"Shor quantum code\\ndecoding the exact error\")"
   ]
  },
  {
   "cell_type": "markdown",
   "metadata": {
    "slideshow": {
     "slide_type": "slide"
    }
   },
   "source": [
    "It looks like the performance is much worse than no code at all. Looking at the lookup table, we see it has fewer than the expected $3\\times 9+1=28$ entries (for each of the possible single qubit errors and one for no errors)."
   ]
  },
  {
   "cell_type": "code",
   "execution_count": 25,
   "metadata": {
    "slideshow": {
     "slide_type": "fragment"
    }
   },
   "outputs": [
    {
     "data": {
      "text/plain": [
       "Dict{Any, Any} with 22 entries:\n",
       "  UInt8[0x00, 0x01, 0x00, 0x00, 0x00, 0x00, 0x01, 0x00] => + __Y______\n",
       "  UInt8[0x01, 0x00, 0x00, 0x00, 0x00, 0x00, 0x00, 0x00] => + X________\n",
       "  UInt8[0x01, 0x00, 0x00, 0x00, 0x00, 0x00, 0x01, 0x00] => + Y________\n",
       "  UInt8[0x00, 0x00, 0x00, 0x01, 0x00, 0x00, 0x00, 0x00] => + _____X___\n",
       "  UInt8[0x00, 0x00, 0x00, 0x01, 0x00, 0x00, 0x01, 0x01] => + _____Y___\n",
       "  UInt8[0x00, 0x00, 0x00, 0x00, 0x01, 0x01, 0x00, 0x01] => + _______Y_\n",
       "  UInt8[0x01, 0x01, 0x00, 0x00, 0x00, 0x00, 0x00, 0x00] => + _X_______\n",
       "  UInt8[0x00, 0x00, 0x00, 0x00, 0x01, 0x01, 0x00, 0x00] => + _______X_\n",
       "  UInt8[0x00, 0x00, 0x01, 0x00, 0x00, 0x00, 0x00, 0x00] => + ___X_____\n",
       "  UInt8[0x01, 0x01, 0x00, 0x00, 0x00, 0x00, 0x01, 0x00] => + _Y_______\n",
       "  UInt8[0x00, 0x00, 0x01, 0x00, 0x00, 0x00, 0x01, 0x01] => + ___Y_____\n",
       "  UInt8[0x00, 0x00, 0x00, 0x00, 0x00, 0x01, 0x00, 0x01] => + ________Y\n",
       "  UInt8[0x00, 0x00, 0x00, 0x00, 0x00, 0x01, 0x00, 0x00] => + ________X\n",
       "  UInt8[0x00, 0x00, 0x00, 0x00, 0x01, 0x00, 0x00, 0x01] => + ______Y__\n",
       "  UInt8[0x00, 0x00, 0x00, 0x00, 0x01, 0x00, 0x00, 0x00] => + ______X__\n",
       "  UInt8[0x00, 0x00, 0x00, 0x00, 0x00, 0x00, 0x00, 0x01] => + ________Z\n",
       "  UInt8[0x00, 0x00, 0x00, 0x00, 0x00, 0x00, 0x00, 0x00] => + _________\n",
       "  UInt8[0x00, 0x00, 0x00, 0x00, 0x00, 0x00, 0x01, 0x01] => + _____Z___\n",
       "  UInt8[0x00, 0x00, 0x01, 0x01, 0x00, 0x00, 0x00, 0x00] => + ____X____\n",
       "  ⋮                                                     => ⋮"
      ]
     },
     "metadata": {},
     "output_type": "display_data"
    }
   ],
   "source": [
    "shor_table"
   ]
  },
  {
   "cell_type": "markdown",
   "metadata": {
    "slideshow": {
     "slide_type": "slide"
    }
   },
   "source": [
    "This is due to the degeneracy of Shor's code: different errors could (1) correspond to the same syndrome and (2) lead to the same logical flips:"
   ]
  },
  {
   "cell_type": "code",
   "execution_count": 26,
   "metadata": {
    "slideshow": {
     "slide_type": "fragment"
    },
    "tags": []
   },
   "outputs": [
    {
     "data": {
      "text/plain": [
       "8-element Vector{UInt8}:\n",
       " 0x00\n",
       " 0x00\n",
       " 0x00\n",
       " 0x00\n",
       " 0x00\n",
       " 0x00\n",
       " 0x01\n",
       " 0x00"
      ]
     },
     "metadata": {},
     "output_type": "display_data"
    }
   ],
   "source": [
    "comm(P\"Z________\", codeˢʰᵒʳ) "
   ]
  },
  {
   "cell_type": "code",
   "execution_count": 27,
   "metadata": {
    "slideshow": {
     "slide_type": "fragment"
    },
    "tags": []
   },
   "outputs": [
    {
     "data": {
      "text/plain": [
       "8-element Vector{UInt8}:\n",
       " 0x00\n",
       " 0x00\n",
       " 0x00\n",
       " 0x00\n",
       " 0x00\n",
       " 0x00\n",
       " 0x01\n",
       " 0x00"
      ]
     },
     "metadata": {},
     "output_type": "display_data"
    }
   ],
   "source": [
    "comm(P\"_Z_______\", codeˢʰᵒʳ)"
   ]
  },
  {
   "cell_type": "markdown",
   "metadata": {
    "slideshow": {
     "slide_type": "slide"
    }
   },
   "source": [
    "This is not necessary a problem as long as the correction operation for the first error is also a correction operation for the second error:"
   ]
  },
  {
   "cell_type": "code",
   "execution_count": 28,
   "metadata": {
    "slideshow": {
     "slide_type": "fragment"
    },
    "tags": []
   },
   "outputs": [
    {
     "data": {
      "text/plain": [
       "8-element Vector{UInt8}:\n",
       " 0x00\n",
       " 0x00\n",
       " 0x00\n",
       " 0x00\n",
       " 0x00\n",
       " 0x00\n",
       " 0x00\n",
       " 0x00"
      ]
     },
     "metadata": {},
     "output_type": "display_data"
    }
   ],
   "source": [
    "comm(P\"_Z_______\" * P\"Z________\", codeˢʰᵒʳ)"
   ]
  },
  {
   "cell_type": "code",
   "execution_count": 29,
   "metadata": {
    "slideshow": {
     "slide_type": "fragment"
    },
    "tags": []
   },
   "outputs": [
    {
     "data": {
      "text/plain": [
       "+ ______XXX\n",
       "+ Z__Z____Z"
      ]
     },
     "metadata": {},
     "output_type": "display_data"
    }
   ],
   "source": [
    "full_tableau = MixedDestabilizer(codeˢʰᵒʳ)\n",
    "logicals = vcat(logicalxview(full_tableau),logicalzview(full_tableau))\n",
    "logicals # the logical observables"
   ]
  },
  {
   "cell_type": "code",
   "execution_count": 30,
   "metadata": {
    "slideshow": {
     "slide_type": "fragment"
    },
    "tags": []
   },
   "outputs": [
    {
     "data": {
      "text/plain": [
       "2-element Vector{UInt8}:\n",
       " 0x00\n",
       " 0x00"
      ]
     },
     "metadata": {},
     "output_type": "display_data"
    }
   ],
   "source": [
    "comm(P\"_Z_______\" * P\"Z________\", logicals)"
   ]
  },
  {
   "cell_type": "markdown",
   "metadata": {
    "slideshow": {
     "slide_type": "slide"
    }
   },
   "source": [
    "Which leads to a small modification in our Monte Carlo evaluation code."
   ]
  },
  {
   "cell_type": "code",
   "execution_count": 31,
   "metadata": {
    "slideshow": {
     "slide_type": "fragment"
    }
   },
   "outputs": [],
   "source": [
    "\"\"\"For a given physical bit-flip error rate, parity check matrix, and a lookup table,\n",
    "estimate logical error rate, taking into account the code might be degenerate.\"\"\"\n",
    "function evaluate_degen_code_decoder(code::Stabilizer,lookup_table,p; samples=10_000)\n",
    "    constraints, qubits = size(code)\n",
    "    full_tableau = MixedDestabilizer(code)\n",
    "    logicals = vcat(logicalxview(full_tableau),logicalzview(full_tableau))\n",
    "    decoded = 0 # Counts correct decodings\n",
    "    for sample in 1:samples\n",
    "        # Generate random error\n",
    "        error = random_pauli(qubits,p/3,nophase=true)\n",
    "        # Apply that error to your physical system\n",
    "        # and get syndrome\n",
    "        syndrome = comm(error, code)\n",
    "        # Decode the syndrome\n",
    "        guess = get(lookup_table,syndrome,nothing)\n",
    "        # Check if the suggested error correction\n",
    "        # corrects the error or if it is equivalent\n",
    "        # to a logical operation\n",
    "        if !isnothing(guess) && all(==(0x0), comm(guess*error, code)) && all(==(0x0), comm(guess*error, logicals))\n",
    "            decoded += 1\n",
    "        end\n",
    "    end\n",
    "    1 - decoded / samples\n",
    "end;"
   ]
  },
  {
   "cell_type": "markdown",
   "metadata": {
    "slideshow": {
     "slide_type": "slide"
    }
   },
   "source": [
    "With the degeneracy taken into account, the Shor code works fine"
   ]
  },
  {
   "cell_type": "code",
   "execution_count": 32,
   "metadata": {},
   "outputs": [
    {
     "name": "stdout",
     "output_type": "stream",
     "text": [
      "  0.559375 seconds (8.76 M allocations: 364.496 MiB, 16.08% gc time, 50.47% compilation time)\n"
     ]
    },
    {
     "data": {
      "image/png": "[encoded data removed]"
     },
     "metadata": {},
     "output_type": "display_data"
    }
   ],
   "source": [
    "@time post_ec_error_rates = [evaluate_degen_code_decoder(codeˢʰᵒʳ, shor_table, p) for p in error_rates]\n",
    "plot_code_performance(error_rates, post_ec_error_rates, title=\"Shor quantum code\\ndecoding with degeneracy\")"
   ]
  },
  {
   "cell_type": "markdown",
   "metadata": {
    "slideshow": {
     "slide_type": "slide"
    },
    "tags": []
   },
   "source": [
    "# Not covered\n",
    "\n",
    "- The stabilizer formalism: interpreting a code tableau as a state\n",
    "- Families of codes: pseudothreshold vs threshold\n",
    "- Non-Pauli errors and Coherent errors\n",
    "- Good codes: Low Density Parity Checks and Expander Graphs\n",
    "- Good decoders: belief propagation and iterative decoders\n",
    "- Faster simulations: Pauli frames and fault matrices\n",
    "- Error Correction vs Fault Tolerance"
   ]
  },
  {
   "cell_type": "markdown",
   "metadata": {
    "slideshow": {
     "slide_type": "skip"
    },
    "tags": []
   },
   "source": [
    "# What follows are unpolished lecture materials"
   ]
  },
  {
   "cell_type": "markdown",
   "metadata": {
    "slideshow": {
     "slide_type": "slide"
    }
   },
   "source": [
    "## An asside: The Code Tableau can be Interpreted as a State Tableau"
   ]
  },
  {
   "cell_type": "code",
   "execution_count": 29,
   "metadata": {
    "tags": []
   },
   "outputs": [
    {
     "data": {
      "text/plain": [
       "+ XX"
      ]
     },
     "execution_count": 29,
     "metadata": {},
     "output_type": "execute_result"
    }
   ],
   "source": [
    "S\"XX\""
   ]
  },
  {
   "cell_type": "markdown",
   "metadata": {
    "slideshow": {
     "slide_type": "slide"
    }
   },
   "source": [
    "## Complexity\n",
    "\n",
    "For a code on $n$ qubits with $m$ constraints it takes $\\mathcal{O}(nm)$ steps to calculate a syndrome given an error. It takes the same amount of time to check whether a given correction procedure fixes a given error. Notice we need to track the evolution of a single Pauli string of size $\\mathcal{O}(n)$, instead of tracking a whole stabilizer (which would have taken $\\mathcal{O}(n^2m)$). However, the naive way we are doing it makes it viable only for the simulation of perfect circuits. We need a more sophisticated \"Pauli Frame\" simulation to retain this high performance for noisy circuits and fault tolerance simulations.\n",
    "\n",
    "But even the naive approach is only quadratically slow, not exponentially slow like if we had used kets or density matrices."
   ]
  },
  {
   "cell_type": "markdown",
   "metadata": {
    "slideshow": {
     "slide_type": "slide"
    }
   },
   "source": [
    "## Error Correction vs Fault Tolerance\n",
    "\n",
    "What if we had not only memory/transmission noise, but also operational noise? I.e., each of the gates in the syndrome measurement circuit is itself noisy and might itself cause errors. We will explore this, and we will run through an example with the Steane's 7 qubit code."
   ]
  },
  {
   "cell_type": "markdown",
   "metadata": {
    "slideshow": {
     "slide_type": "slide"
    }
   },
   "source": [
    "### Syndrome Measurement Circuit\n",
    "\n",
    "Up until now we just used the `comm` function to check whether certain operators commute. This is a good way to represent a perfect measurement, but now we want to simulate the actual circuit that would be performing the measurement. Here is one way to do it:"
   ]
  },
  {
   "cell_type": "code",
   "execution_count": 30,
   "metadata": {
    "slideshow": {
     "slide_type": "slide"
    },
    "tags": []
   },
   "outputs": [
    {
     "name": "stdout",
     "output_type": "stream",
     "text": [
      "(s, n) = size(codeˢᵗᵉᵃⁿᵉ) = (6, 7)\n",
      "k = n - s = 1\n",
      "anc = n + s = 13\n"
     ]
    }
   ],
   "source": [
    "codeˢᵗᵉᵃⁿᵉ = parity_checks(Steane7())\n",
    "\n",
    "@show s, n = size(codeˢᵗᵉᵃⁿᵉ)\n",
    "@show k = n-s                 # logical qubits\n",
    "@show anc = n+s;              # physical qubits + ancillary qubits"
   ]
  },
  {
   "cell_type": "code",
   "execution_count": 31,
   "metadata": {
    "slideshow": {
     "slide_type": "fragment"
    },
    "tags": []
   },
   "outputs": [
    {
     "name": "stdout",
     "output_type": "stream",
     "text": [
      "+ ___XXXX\n"
     ]
    }
   ],
   "source": [
    "codeˢᵗᵉᵃⁿᵉ[1] |> println"
   ]
  },
  {
   "cell_type": "code",
   "execution_count": 32,
   "metadata": {
    "slideshow": {
     "slide_type": "fragment"
    },
    "tags": []
   },
   "outputs": [
    {
     "data": {
      "image/png": "[encoded data removed]",
      "text/plain": [
       "5-element Vector{QuantumClifford.AbstractOperation}:\n",
       " sCNOT(1,8)\n",
       " sCNOT(4,8)\n",
       " sCNOT(6,8)\n",
       " sCNOT(7,8)\n",
       " sMZ(8, 1)"
      ]
     },
     "execution_count": 32,
     "metadata": {},
     "output_type": "execute_result"
    }
   ],
   "source": [
    "anc = n+1\n",
    "[sCNOT(1,anc),sCNOT(4,anc),sCNOT(6,anc),sCNOT(7,anc),sMZ(anc,1)]"
   ]
  },
  {
   "cell_type": "code",
   "execution_count": 35,
   "metadata": {
    "slideshow": {
     "slide_type": "slide"
    },
    "tags": []
   },
   "outputs": [
    {
     "data": {
      "image/png": "[encoded data removed]",
      "text/plain": [
       "30-element Vector{QuantumClifford.AbstractOperation}:\n",
       " sXCX(4,8)\n",
       " sXCX(5,8)\n",
       " sXCX(6,8)\n",
       " sXCX(7,8)\n",
       " sMRZ(8, 1)\n",
       " sXCX(2,9)\n",
       " sXCX(3,9)\n",
       " sXCX(6,9)\n",
       " sXCX(7,9)\n",
       " sMRZ(9, 2)\n",
       " sXCX(1,10)\n",
       " sXCX(3,10)\n",
       " sXCX(5,10)\n",
       " ⋮\n",
       " sCNOT(7,11)\n",
       " sMRZ(11, 4)\n",
       " sCNOT(2,12)\n",
       " sCNOT(3,12)\n",
       " sCNOT(6,12)\n",
       " sCNOT(7,12)\n",
       " sMRZ(12, 5)\n",
       " sCNOT(1,13)\n",
       " sCNOT(3,13)\n",
       " sCNOT(5,13)\n",
       " sCNOT(7,13)\n",
       " sMRZ(13, 6)"
      ]
     },
     "execution_count": 35,
     "metadata": {},
     "output_type": "execute_result"
    }
   ],
   "source": [
    "full_circuit, nanc, syndrome_bits = naive_syndrome_circuit(codeˢᵗᵉᵃⁿᵉ)\n",
    "full_circuit"
   ]
  },
  {
   "cell_type": "code",
   "execution_count": 41,
   "metadata": {
    "slideshow": {
     "slide_type": "slide"
    },
    "tags": []
   },
   "outputs": [],
   "source": [
    "\"\"\"For a given physical bit-flip error rate, parity check matrix, and a lookup table,\n",
    "estimate logical error rate, taking into account noisy circuits.\"\"\"\n",
    "function evaluate_code_decoder_noisy_circuit(code::Stabilizer,lookup_table,p,q; samples=10_000)\n",
    "    constraints, qubits = size(code)\n",
    "    initial_state = state = Register(MixedDestabilizer(codeˢᵗᵉᵃⁿᵉ ⊗ one(Stabilizer, s)),zeros(Bool,6))\n",
    "    initial_state.stab.rank = qubits+constraints # TODO hackish and ugly, needs fixing\n",
    "    no_error_state = canonicalize!(stabilizerview(traceout!(copy(initial_state),n+1:n+constraints))) # TODO rather ugly\n",
    "    # prepare measurement circuit\n",
    "    syndrome_circuit, _, _ = naive_syndrome_circuit(code)\n",
    "    noisy_circuit = make_noisy(syndrome_circuit, UnbiasedUncorrelatedNoise(q/3))\n",
    "    mem_noise_op = NoiseOp(UnbiasedUncorrelatedNoise(p/3), 1:qubits)\n",
    "    pad_ancilla_qubits = zero(PauliOperator, constraints) # TODO rather ugly\n",
    "    decoded = 0 # Counts correct decodings\n",
    "    for sample in 1:samples\n",
    "        state = copy(initial_state)\n",
    "        # Apply the initial memory error to your physical system\n",
    "        apply!(state, mem_noise_op)\n",
    "        # Run the syndrome measurement circuit\n",
    "        mctrajectory!(state, noisy_circuit)\n",
    "        syndrome = UInt8.(bitview(state))\n",
    "        # Decode the syndrome\n",
    "        guess = get(lookup_table,syndrome,nothing)\n",
    "        if isnothing(guess)\n",
    "            continue\n",
    "        end\n",
    "        # Apply the suggested correction\n",
    "        apply!(state, guess ⊗ pad_ancilla_qubits)\n",
    "        # Check for errors\n",
    "        if no_error_state == canonicalize!(stabilizerview(traceout!(state,n+1:n+constraints))) # TODO rather ugly\n",
    "            decoded += 1\n",
    "        end\n",
    "    end\n",
    "    1 - decoded / samples\n",
    "    end;"
   ]
  },
  {
   "cell_type": "code",
   "execution_count": 42,
   "metadata": {
    "slideshow": {
     "slide_type": "slide"
    },
    "tags": []
   },
   "outputs": [
    {
     "name": "stdout",
     "output_type": "stream",
     "text": [
      "  0.144581 seconds (2.73 M allocations: 91.102 MiB, 16.34% gc time, 16.27% compilation time)\n"
     ]
    },
    {
     "data": {
      "image/png": "[encoded data removed]"
     },
     "execution_count": 42,
     "metadata": {},
     "output_type": "execute_result"
    }
   ],
   "source": [
    "error_rates = 0.000:0.0025:0.02\n",
    "@time post_ec_error_rates = [evaluate_code_decoder(codeˢᵗᵉᵃⁿᵉ, steane_table, p) for p in error_rates]\n",
    "plot_code_performance(error_rates, post_ec_error_rates, title=\"Steane quantum code\")"
   ]
  },
  {
   "cell_type": "code",
   "execution_count": 43,
   "metadata": {
    "slideshow": {
     "slide_type": "slide"
    },
    "tags": []
   },
   "outputs": [
    {
     "name": "stdout",
     "output_type": "stream",
     "text": [
      "  1.767684 seconds (35.40 M allocations: 1.215 GiB, 9.31% gc time, 30.74% compilation time)\n"
     ]
    },
    {
     "data": {
      "image/png": "[encoded data removed]"
     },
     "execution_count": 43,
     "metadata": {},
     "output_type": "execute_result"
    }
   ],
   "source": [
    "error_rates = 0.000:0.0025:0.02\n",
    "@time post_ec_error_rates = [evaluate_code_decoder_noisy_circuit(codeˢᵗᵉᵃⁿᵉ, steane_table, p, 0.0) for p in error_rates]\n",
    "plot_code_performance(error_rates, post_ec_error_rates, title=\"Steane quantum code\")"
   ]
  },
  {
   "cell_type": "code",
   "execution_count": 44,
   "metadata": {
    "slideshow": {
     "slide_type": "slide"
    },
    "tags": []
   },
   "outputs": [
    {
     "name": "stdout",
     "output_type": "stream",
     "text": [
      "  1.250026 seconds (33.76 M allocations: 1.114 GiB, 9.78% gc time, 1.05% compilation time)\n"
     ]
    },
    {
     "data": {
      "image/png": "[encoded data removed]"
     },
     "execution_count": 44,
     "metadata": {},
     "output_type": "execute_result"
    }
   ],
   "source": [
    "error_rates = 0.000:0.0025:0.02\n",
    "@time post_ec_error_rates = [evaluate_code_decoder_noisy_circuit(codeˢᵗᵉᵃⁿᵉ, steane_table, p, p) for p in error_rates]\n",
    "plot_code_performance(error_rates, post_ec_error_rates, title=\"Steane quantum code\")"
   ]
  },
  {
   "cell_type": "code",
   "execution_count": 45,
   "metadata": {
    "slideshow": {
     "slide_type": "slide"
    },
    "tags": []
   },
   "outputs": [
    {
     "name": "stdout",
     "output_type": "stream",
     "text": [
      "  1.256426 seconds (33.79 M allocations: 1.115 GiB, 9.90% gc time, 1.02% compilation time)\n"
     ]
    },
    {
     "data": {
      "image/png": "[encoded data removed]"
     },
     "execution_count": 45,
     "metadata": {},
     "output_type": "execute_result"
    }
   ],
   "source": [
    "error_rates = 0.000:0.0025:0.02\n",
    "@time post_ec_error_rates = [evaluate_code_decoder_noisy_circuit(codeˢᵗᵉᵃⁿᵉ, steane_table, p, p/50) for p in error_rates]\n",
    "plot_code_performance(error_rates, post_ec_error_rates, title=\"Steane quantum code\")"
   ]
  },
  {
   "cell_type": "code",
   "execution_count": null,
   "metadata": {},
   "outputs": [],
   "source": []
  }
 ],
 "metadata": {
  "celltoolbar": "Slideshow",
  "kernelspec": {
   "display_name": "Julia 1.9.3",
   "language": "julia",
   "name": "julia-1.9"
  },
  "language_info": {
   "file_extension": ".jl",
   "mimetype": "application/julia",
   "name": "julia",
   "version": "1.9.3"
  }
 },
 "nbformat": 4,
 "nbformat_minor": 4
}
